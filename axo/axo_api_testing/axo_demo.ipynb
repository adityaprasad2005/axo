{
 "cells": [
  {
   "cell_type": "code",
   "execution_count": null,
   "id": "8303d11d",
   "metadata": {},
   "outputs": [],
   "source": [
    "# Importing libraries\n",
    "\n",
    "import numpy as np\n",
    "import time \n",
    "from sklearn.linear_model import LinearRegression\n",
    "import matplotlib.pyplot as plt\n",
    "import pandas as pd\n",
    "\n",
    "from science_jubilee.Machine import Machine\n",
    "from science_jubilee.tools.Tool import Tool\n",
    "from science_jubilee.decks.Deck import Deck\n",
    "from science_jubilee.labware.Labware import Labware, Location, Well\n",
    "from science_jubilee.tools.Pipette import Pipette\n",
    "from science_jubilee.tools.Double_Syringe import DoubleSyringe\n",
    "from science_jubilee.tools.Vacuum_Gripper import VacuumGripper\n",
    "from science_jubilee.tools.Oceandirect_axo import Spectrometer"
   ]
  },
  {
   "cell_type": "code",
   "execution_count": null,
   "id": "56f2819d",
   "metadata": {},
   "outputs": [
    {
     "name": "stdout",
     "output_type": "stream",
     "text": [
      "Manual offset applied to opentrons_96_tiprack_1000ul\n",
      "Manual offset saved\n",
      "Manual offset applied to uwsunlab_12_wellplate_4000ul\n",
      "Manual offset saved\n",
      "Manual offset applied to uwsunlab_12_wellplate_4000ul\n",
      "Manual offset saved\n",
      "Manual offset applied (1×1 plate),  x_adjust=0.0, y_adjust=0.0\n",
      "Manual offset saved.\n",
      "Manual offset applied to uwsunlab_6_wellplate_23000ul\n",
      "Manual offset saved\n",
      "Manual offset applied to uwsunlab_12_wellplate_4000ul\n",
      "Manual offset saved\n",
      "Manual offset applied (1×2 plate),  x_adjust=0.0, y_adjust=0.0\n",
      "Manual offset saved.\n",
      "Manual offset applied to uwsunlab_6_wellplate_23000ul\n",
      "Manual offset saved\n",
      "Manual offset applied to uwsunlab_12_wellplate_4000ul\n",
      "Manual offset saved\n"
     ]
    }
   ],
   "source": [
    "# Manual Offsetting \n",
    "\n",
    "deck = Deck(\"lab_automation_deck\") # We are not using the deck, so operate any deck.json \n",
    "\n",
    "# -------------Position JSON file for Pipette ---------------------#\n",
    "tiprack = deck.load_labware(labware_filename = 'opentrons_96_tiprack_1000ul_axo.json', slot = 5)   # Load an opentrons 20uL\n",
    "tiprack.manual_offset2([[274.1, 219.8],[173.1, 220.0],[173.1, 282.0]], save = True)   # Save through list of list. List of coordinates should be A1 A12 H12 subsequently. \n",
    "samples_ot2 = deck.load_labware(\"uwsunlab_12_wellplate_4000ul_pipette_1.json\", slot = 2)\n",
    "samples_ot2.manual_offset2([[131.3, 135.5], [36.5, 135.8], [36.5, 176.8]], save = True)\n",
    "samples2_ot2 = deck.load_labware(\"uwsunlab_12_wellplate_4000ul_pipette_2.json\", slot = 0)\n",
    "samples2_ot2.manual_offset2([[129.8, 40], [35.9, 38.8], [35.9, 79.8]], save = True)\n",
    "solvent = deck.load_labware(\"uwsunlab_1_reservoir_60000ul.json\", slot = 3)\n",
    "solvent.manual_offset_small_plate([[225.2, 155.8]], save = True)\n",
    "    \n",
    "# -------------Position JSON file for Dual Syringe ---------------#\n",
    "# samples_sy = deck.load_labware('uwsunlab_6_wellplate_23000ul_sy_1.json', slot = 2)     #new config\n",
    "samples_sy = deck.load_labware('uwsunlab_10_wellplate_11000ul_sy_1.json', slot = 2)     #new config\n",
    "samples_sy.manual_offset2([[125.7, 132.6],[48.6, 131.5], [48.6, 172.2]], save = True)\n",
    "samples2_sy = deck.load_labware('uwsunlab_12_wellplate_4000ul_2.json', slot = 0)\n",
    "samples2_sy.manual_offset2([[132.2, 36.3], [38.2, 36.3], [38.2, 77.5]], save = True)\n",
    "precursors = deck.load_labware('uwsunlab_2_wellplate_60000ul.json', slot = 1)\n",
    "precursors.manual_offset_small_plate([[245.0, 60.0], [197.0, 60.0]], save = True)\n",
    "# -----------Position JSON file for Spectrometer----------------# \n",
    "# samples_spec = deck.load_labware('uwsunlab_12_wellplate_4000ul_spec_1.json', slot = 2)\n",
    "# samples_spec = deck.load_labware('uwsunlab_6_wellplate_23000ul_spec_1.json', slot = 2)   #new config\n",
    "samples_spec = deck.load_labware('uwsunlab_10_wellplate_11000ul_spec_1.json', slot = 2)   #new config\n",
    "samples_spec.manual_offset2([[120.0, 133.3],[43.0, 133.2], [42.6, 173.2]], save = True)\n",
    "samples2_spec = deck.load_labware('uwsunlab_12_wellplate_4000ul_spec_2.json', slot = 0)\n",
    "samples2_spec.manual_offset2([[127.3, 35.6], [32.9, 35.6], [33.5, 77.4]], save = True)\n",
    "\n",
    " \n",
    "\n",
    "# ----------Position JSON file for Vacuum Gripper---------------#"
   ]
  },
  {
   "cell_type": "code",
   "execution_count": 32,
   "id": "5b7257f3",
   "metadata": {},
   "outputs": [],
   "source": [
    "# Intialising and homing the Machine \n",
    "\n",
    "axo = Machine(address = '192.168.1.2')"
   ]
  },
  {
   "cell_type": "code",
   "execution_count": 33,
   "id": "c3d3de5b",
   "metadata": {},
   "outputs": [],
   "source": [
    "axo.home_all()\n",
    "axo.move_to(z=180) # Safest Z location"
   ]
  },
  {
   "cell_type": "code",
   "execution_count": null,
   "id": "a1f31955",
   "metadata": {},
   "outputs": [
    {
     "name": "stdout",
     "output_type": "stream",
     "text": [
      "Manual offset applied to opentrons_96_tiprack_1000ul\n",
      "Manual offset applied to uwsunlab_12_wellplate_4000ul\n",
      "Manual offset applied to uwsunlab_12_wellplate_4000ul\n",
      "Manual offset applied (1×1 plate),  x_adjust=0.0, y_adjust=0.0\n",
      "Manual offset applied to uwsunlab_6_wellplate_23000ul\n",
      "Manual offset applied to uwsunlab_12_wellplate_4000ul\n",
      "Manual offset applied (1×2 plate),  x_adjust=0.0, y_adjust=0.0\n",
      "Manual offset applied to uwsunlab_6_wellplate_23000ul\n",
      "Manual offset applied to uwsunlab_12_wellplate_4000ul\n"
     ]
    }
   ],
   "source": [
    "# Loading the labwares\n",
    "\n",
    "deck = axo.load_deck(\"lab_automation_deck\")\n",
    "\n",
    "## ---------------------OT2 1000ul Pipette ----------------------------##\n",
    "tiprack = axo.load_labware(\"opentrons_96_tiprack_1000ul_axo.json\", 5)\n",
    "tiprack.load_manualOffset()\n",
    "samples_ot2 = axo.load_labware('uwsunlab_12_wellplate_4000ul_pipette_1.json', 2)\n",
    "samples_ot2.load_manualOffset()\n",
    "samples2_ot2 = axo.load_labware('uwsunlab_12_wellplate_4000ul_pipette_2.json', 0)\n",
    "samples2_ot2.load_manualOffset()\n",
    "solvent = axo.load_labware('uwsunlab_1_reservoir_60000ul.json', 3)\n",
    "solvent.load_manualOffset()\n",
    "trash = (-0.9, 55.8, 99)\n",
    "## -------------------------------------------------------------------##\n",
    "#pipette = Pipette(0, \"Pipette\", brand = \"opentron\", model = \"config\", max_volume= 20, min_volume= 0, zero_position = (0,0,0),\\\n",
    "#    blowout_position=None, drop_tip_position = None, mm_to_ul = None)# model = \"config\")\n",
    "\n",
    "## ---------------------Dual Syringe Pump ----------------------------##\n",
    "samples_sy = axo.load_labware('uwsunlab_10_wellplate_11000ul_sy_1.json', 2)         #new config\n",
    "samples_sy.load_manualOffset()\n",
    "samples2_sy = axo.load_labware('uwsunlab_12_wellplate_4000ul_2.json', 0)\n",
    "samples2_sy.load_manualOffset()\n",
    "precursors = axo.load_labware('uwsunlab_2_wellplate_60000ul.json', 1)\n",
    "precursors.load_manualOffset()\n",
    "## ------------------------------------------------------------------##\n",
    "\n",
    "## --------------------------Spectrometer -------------------------------##\n",
    "samples_spec = axo.load_labware('uwsunlab_10_wellplate_11000ul_spec_1.json', 2)  #new config\n",
    "samples_spec.load_manualOffset()\n",
    "samples2_spec = axo.load_labware('uwsunlab_12_wellplate_4000ul_spec_2.json', 0)\n",
    "samples2_spec.load_manualOffset()\n",
    "## ----------------------------------------------------------------------##\n",
    "\n",
    "## ------------------------Vacuum Gripper --------------------------------##\n",
    "vacuum_location = [(84, 51, 0),  # Slot 0 (12 Well Plate)\n",
    "                   (225, 57, 0), # Slot 1 (2 Precursor Container)\n",
    "                   (84, 147, 0), # Slot 2 (12 Well Plate)\n",
    "                   (225, 149, 0), # Slot 3 (1 Solvent Container)\n",
    "                   (79, 244, 0)] # Slot 4 (Lid Containter)\n",
    "\n"
   ]
  },
  {
   "cell_type": "code",
   "execution_count": 35,
   "id": "2d313f9b",
   "metadata": {},
   "outputs": [],
   "source": [
    "## Load Double Syringe\n",
    "syringe = DoubleSyringe(index = 2,\n",
    "                        name = 'Syringe_Pump',\n",
    "                        config = '10cc_syringe')\n",
    "axo.load_tool(syringe)"
   ]
  },
  {
   "cell_type": "code",
   "execution_count": 38,
   "id": "53441758",
   "metadata": {},
   "outputs": [
    {
     "name": "stdout",
     "output_type": "stream",
     "text": [
      "Opened Spectrometer 2\n"
     ]
    }
   ],
   "source": [
    "# Load the spectrometer\n",
    "\n",
    "spectrometer = Spectrometer(index = 3, \n",
    "                            name = 'Spectrometer', \n",
    "                            base_dir=r\"C:\\Users\\ADITI\\Downloads\\Aditya\\Axo_Jubilee\\science-jubilee\\axo\\spectrum_data\",\n",
    "                            plate_id = 'testing_5')\n",
    "                            # ref_dark = 'dark_20250708_165121.npy',\n",
    "                            # ref_white = 'white_20250708_165110.npy')\n",
    "axo.load_tool(spectrometer)"
   ]
  },
  {
   "cell_type": "code",
   "execution_count": 39,
   "id": "967a3826",
   "metadata": {},
   "outputs": [],
   "source": [
    "# Load Vaccum Gripper\n",
    "gripper = VacuumGripper(index = 4,\n",
    "                        name = 'Vacuum_Gripper',\n",
    "                        vacuum_pin = 0,\n",
    "                        limit_switch_pin = 2)\n",
    "axo.load_tool(gripper)"
   ]
  },
  {
   "cell_type": "markdown",
   "id": "d629293a",
   "metadata": {},
   "source": [
    "<h1> Prepare a Vial </h1>"
   ]
  },
  {
   "cell_type": "code",
   "execution_count": 17,
   "id": "1dbb3f97",
   "metadata": {},
   "outputs": [],
   "source": [
    "# Dual Syringe pre - fill precursor\n",
    "\n",
    "axo.pickup_tool(syringe)\n"
   ]
  },
  {
   "cell_type": "code",
   "execution_count": 20,
   "id": "241ab311",
   "metadata": {},
   "outputs": [],
   "source": [
    "# Reset the position of the syringe before dispensing\n",
    "syringe.reset_position()\n",
    "\n",
    "# # If the syringe has some water inside it, and we dont want to reset its position, we can use the following code\n",
    "# # In this code we can move the syringe to the precursor location and then reset its position\n",
    "\n",
    "# drive0 = syringe.e0_drive\n",
    "# current_pos0 = float(syringe._machine.get_position()[drive0])\n",
    "# headroom_mm0 = current_pos0 - syringe.min_range\n",
    "# headroom_ml0 = headroom_mm0 / syringe.mm_to_ml\n",
    "# syringe.dispense_e0(vol= headroom_ml0, sample_loc_e=precursors[1], refill_loc_e=precursors[1], s=50)\n",
    "# print(current_pos0)\n",
    "\n",
    "# drive1 = syringe.e1_drive\n",
    "# current_pos1 = float(syringe._machine.get_position()[drive1])\n",
    "# headroom_mm1 = current_pos1 - syringe.min_range\n",
    "# headroom_ml1 = headroom_mm1 / syringe.mm_to_ml\n",
    "# syringe.dispense_e1(vol= headroom_ml1, sample_loc_v=precursors[0], refill_loc_v=precursors[0], s=50)\n",
    "# print(current_pos1)"
   ]
  },
  {
   "cell_type": "code",
   "execution_count": 21,
   "id": "448612fb",
   "metadata": {},
   "outputs": [
    {
     "data": {
      "text/plain": [
       "{'X': '173.700',\n",
       " 'Y': '132.600',\n",
       " 'Z': '62.000',\n",
       " 'U': '110.015',\n",
       " 'V': '0.000',\n",
       " 'E': '0.000',\n",
       " 'E0': '0.0',\n",
       " 'E1': '-0.0'}"
      ]
     },
     "execution_count": 21,
     "metadata": {},
     "output_type": "execute_result"
    }
   ],
   "source": [
    "axo.get_position()"
   ]
  },
  {
   "cell_type": "code",
   "execution_count": 22,
   "id": "86da1dba",
   "metadata": {},
   "outputs": [
    {
     "data": {
      "text/plain": [
       "9.0"
      ]
     },
     "execution_count": 22,
     "metadata": {},
     "output_type": "execute_result"
    }
   ],
   "source": [
    "## Add precursors to the vials\n",
    "\n",
    "#### dispense metal precursor\n",
    "syringe.dispense_e0(vol = 9, sample_loc_e = samples_sy[0].top(2), refill_loc_e = precursors[0] , s = 250)"
   ]
  },
  {
   "cell_type": "code",
   "execution_count": 23,
   "id": "bc0beaa5",
   "metadata": {},
   "outputs": [
    {
     "data": {
      "text/plain": [
       "6.0"
      ]
     },
     "execution_count": 23,
     "metadata": {},
     "output_type": "execute_result"
    }
   ],
   "source": [
    "syringe.dispense_e0(vol = 6, sample_loc_e = samples_sy[0].top(2), refill_loc_e = precursors[0] , s = 250)"
   ]
  },
  {
   "cell_type": "code",
   "execution_count": 24,
   "id": "05aa9bd2",
   "metadata": {},
   "outputs": [
    {
     "data": {
      "text/plain": [
       "4.0"
      ]
     },
     "execution_count": 24,
     "metadata": {},
     "output_type": "execute_result"
    }
   ],
   "source": [
    "#### dispense organic precursor\n",
    "syringe.dispense_e1(vol = 4, sample_loc_v = samples_sy[0].top(2), refill_loc_v = precursors[0] , s = 250)"
   ]
  },
  {
   "cell_type": "code",
   "execution_count": 10,
   "id": "5aa01ac6",
   "metadata": {},
   "outputs": [
    {
     "name": "stdout",
     "output_type": "stream",
     "text": [
      "14.1\n",
      "-0.0\n"
     ]
    }
   ],
   "source": [
    "# Reset the syringe position before parking \n",
    "# syringe.reset_position()\n",
    "\n",
    "# # If the syringe has some water inside it, and we dont want to reset its position, we can use the following code\n",
    "# # In this code we can move the syringe to the precursor location and then reset its position\n",
    "\n",
    "drive0 = syringe.e0_drive\n",
    "current_pos0 = float(syringe._machine.get_position()[drive0])\n",
    "headroom_mm0 = current_pos0 - syringe.min_range\n",
    "headroom_ml0 = headroom_mm0 / syringe.mm_to_ml\n",
    "syringe.dispense_e0(vol= headroom_ml0, sample_loc_e=precursors[1], refill_loc_e=precursors[1], s=50)\n",
    "print(current_pos0)\n",
    "\n",
    "drive1 = syringe.e1_drive\n",
    "current_pos1 = float(syringe._machine.get_position()[drive1])\n",
    "headroom_mm1 = current_pos1 - syringe.min_range\n",
    "headroom_ml1 = headroom_mm1 / syringe.mm_to_ml\n",
    "syringe.dispense_e1(vol= headroom_ml1, sample_loc_v=precursors[0], refill_loc_v=precursors[0], s=50)\n",
    "print(current_pos1)"
   ]
  },
  {
   "cell_type": "code",
   "execution_count": 25,
   "id": "970c0544",
   "metadata": {},
   "outputs": [],
   "source": [
    "### Park the tool\n",
    "axo.park_tool()"
   ]
  },
  {
   "cell_type": "code",
   "execution_count": 40,
   "id": "650664fe",
   "metadata": {},
   "outputs": [],
   "source": [
    "# Cover the precursors and the vials\n",
    "\n",
    "axo.pickup_tool(gripper)\n",
    "\n",
    "gripper.pick_and_place(grip = vacuum_location[4], drop =vacuum_location[1], pwm= 0.7, retract_z_after_probe = 3.0)\n",
    "\n",
    "gripper.pick_and_place(grip = vacuum_location[4], drop =vacuum_location[2], pwm= 0.7, retract_z_after_probe = 3.0)\n",
    "\n",
    "axo.park_tool()"
   ]
  },
  {
   "cell_type": "code",
   "execution_count": 41,
   "id": "9c3c8aa7",
   "metadata": {},
   "outputs": [],
   "source": [
    "# Remove the lid over the vials\n",
    "\n",
    "axo.pickup_tool(gripper)\n",
    "\n",
    "gripper.pick_and_place(grip = vacuum_location[2], drop =vacuum_location[4], pwm= 0.7, retract_z_after_probe = 3.0)\n",
    "\n",
    "axo.park_tool()"
   ]
  },
  {
   "cell_type": "code",
   "execution_count": 42,
   "id": "24b0a142",
   "metadata": {},
   "outputs": [],
   "source": [
    "# Take t0 readings using the spectrometer\n",
    "\n",
    "axo.pickup_tool(spectrometer)\n",
    "\n",
    "spectrometer.configure_device()"
   ]
  },
  {
   "cell_type": "code",
   "execution_count": 70,
   "id": "39b050f3",
   "metadata": {},
   "outputs": [],
   "source": [
    "spectrometer.position_probe(solvent[0].top(-13))"
   ]
  },
  {
   "cell_type": "code",
   "execution_count": 71,
   "id": "63a5dde1",
   "metadata": {},
   "outputs": [
    {
     "data": {
      "text/plain": [
       "'white_20250709_135756'"
      ]
     },
     "execution_count": 71,
     "metadata": {},
     "output_type": "execute_result"
    }
   ],
   "source": [
    "spectrometer.set_white()"
   ]
  },
  {
   "cell_type": "code",
   "execution_count": 72,
   "id": "d1de8300",
   "metadata": {},
   "outputs": [
    {
     "data": {
      "text/plain": [
       "'dark_20250709_135800'"
      ]
     },
     "execution_count": 72,
     "metadata": {},
     "output_type": "execute_result"
    }
   ],
   "source": [
    "spectrometer.set_dark() "
   ]
  },
  {
   "cell_type": "code",
   "execution_count": 73,
   "id": "fd2301d3",
   "metadata": {},
   "outputs": [
    {
     "name": "stdout",
     "output_type": "stream",
     "text": [
      "(2068, 2)\n",
      "(2068, 2)\n"
     ]
    },
    {
     "data": {
      "image/png": "[encoded data removed]",
      "text/plain": [
       "<Figure size 640x480 with 1 Axes>"
      ]
     },
     "metadata": {},
     "output_type": "display_data"
    }
   ],
   "source": [
    "# Dark and white spectrum\n",
    "white = np.load(spectrometer._white_path)\n",
    "dark = np.load(spectrometer._dark_path)\n",
    "print(white.shape)\n",
    "plt.plot(white[:, 0], white[:, 1])\n",
    "plt.plot(dark[:, 0], dark[:, 1])\n",
    "print(dark.shape)"
   ]
  },
  {
   "cell_type": "code",
   "execution_count": null,
   "id": "b258800b",
   "metadata": {},
   "outputs": [
    {
     "name": "stdout",
     "output_type": "stream",
     "text": [
      "Plot saved to: C:\\Users\\ADITI\\Downloads\\Aditya\\Axo_Jubilee\\science-jubilee\\axo\\spectrum_data\\testing_5\\A1_15min_absorbance.png\n"
     ]
    },
    {
     "data": {
      "image/png": "[encoded data removed]",
      "text/plain": [
       "<Figure size 1000x600 with 1 Axes>"
      ]
     },
     "metadata": {},
     "output_type": "display_data"
    }
   ],
   "source": [
    "wavelengths_blue, vals_blue, absorbance_blue = spectrometer.collect_spectrum(samples_spec[0].top(-13), 15, save= True)\n",
    "# plt.plot(wavelengths_blue, absorbance_blue, label=\"Absorbance\")\n",
    "# plt.plot(wavelengths_blue, vals_blue, label=\"Intensity\")\n",
    "# plt.legend()\n",
    "wavelengths_blue0, absorbance_blue0 = spectrometer.plot_spectrum(samples_spec[0].top(-13), elapsed_min=15, show_plot=True, save_plot=True)"
   ]
  },
  {
   "cell_type": "code",
   "execution_count": 82,
   "id": "51e68843",
   "metadata": {},
   "outputs": [
    {
     "data": {
      "text/plain": [
       "<matplotlib.legend.Legend at 0x19731905d10>"
      ]
     },
     "execution_count": 82,
     "metadata": {},
     "output_type": "execute_result"
    },
    {
     "data": {
      "image/png": "[encoded data removed]",
      "text/plain": [
       "<Figure size 640x480 with 1 Axes>"
      ]
     },
     "metadata": {},
     "output_type": "display_data"
    }
   ],
   "source": [
    "plt.plot(wavelengths_blue, absorbance_blue, label=\"Absorbance\")\n",
    "plt.xlim(400, 800)\n",
    "plt.ylim(0, 1)\n",
    "plt.legend()\n"
   ]
  },
  {
   "cell_type": "code",
   "execution_count": 83,
   "id": "c3a7ba0b",
   "metadata": {},
   "outputs": [],
   "source": [
    "# cleanse the spectrometer before parking\n",
    "for i in range(5):\n",
    "    spectrometer.position_probe(solvent[0].top(-13))"
   ]
  },
  {
   "cell_type": "code",
   "execution_count": 84,
   "id": "477c45c8",
   "metadata": {},
   "outputs": [],
   "source": [
    "axo.park_tool()"
   ]
  },
  {
   "cell_type": "code",
   "execution_count": 85,
   "id": "946476cb",
   "metadata": {},
   "outputs": [],
   "source": [
    "# Cover the vials\n",
    "\n",
    "axo.pickup_tool(gripper)\n",
    "\n",
    "gripper.pick_and_place(grip = vacuum_location[4],\n",
    "                       drop = vacuum_location[2], pwm = 0.7, retract_z_after_probe = 3.0)\n",
    "\n",
    "axo.park_tool()"
   ]
  }
 ],
 "metadata": {
  "kernelspec": {
   "display_name": "axo",
   "language": "python",
   "name": "python3"
  },
  "language_info": {
   "codemirror_mode": {
    "name": "ipython",
    "version": 3
   },
   "file_extension": ".py",
   "mimetype": "text/x-python",
   "name": "python",
   "nbconvert_exporter": "python",
   "pygments_lexer": "ipython3",
   "version": "3.13.4"
  }
 },
 "nbformat": 4,
 "nbformat_minor": 5
}
