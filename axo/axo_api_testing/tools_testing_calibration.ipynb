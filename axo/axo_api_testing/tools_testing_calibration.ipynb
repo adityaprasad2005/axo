{
 "cells": [
  {
   "cell_type": "markdown",
   "id": "c8b1ed20",
   "metadata": {},
   "source": [
    "# **This notebook is intended for testing the functions of tools API built for AXO, and position calibration** #"
   ]
  },
  {
   "cell_type": "code",
   "execution_count": 1,
   "id": "881373e3",
   "metadata": {},
   "outputs": [],
   "source": [
    "import numpy as np\n",
    "import time \n",
    "import matplotlib.pyplot as plt\n",
    "import numpy as np\n",
    "from sklearn.linear_model import LinearRegression\n",
    "import matplotlib.pyplot as plt\n",
    "\n",
    "\n",
    "from science_jubilee.Machine import Machine\n",
    "from science_jubilee.tools.Tool import Tool\n",
    "from science_jubilee.decks.Deck import Deck\n",
    "from science_jubilee.labware.Labware import Labware, Location, Well\n",
    "from science_jubilee.tools.Pipette import Pipette\n",
    "from science_jubilee.tools.Double_Syringe import DoubleSyringe\n",
    "from science_jubilee.tools.Vacuum_Gripper import VacuumGripper\n",
    "from science_jubilee.tools.Oceandirect_axo import Spectrometer"
   ]
  },
  {
   "cell_type": "markdown",
   "id": "6c120b0f",
   "metadata": {},
   "source": [
    "### **Manual Offset for coordinates (Look at Labware.py for details)** ###"
   ]
  },
  {
   "cell_type": "code",
   "execution_count": 32,
   "id": "5bcb52ac",
   "metadata": {},
   "outputs": [
    {
     "name": "stdout",
     "output_type": "stream",
     "text": [
      "Manual offset applied to opentrons_96_tiprack_1000ul\n",
      "Manual offset saved\n",
      "Manual offset applied to uwsunlab_12_wellplate_4000ul\n",
      "Manual offset saved\n",
      "Manual offset applied to uwsunlab_12_wellplate_4000ul\n",
      "Manual offset saved\n",
      "Manual offset applied (1×1 plate),  x_adjust=0.0, y_adjust=0.0\n",
      "Manual offset saved.\n",
      "Manual offset applied to uwsunlab_12_wellplate_4000ul\n",
      "Manual offset saved\n",
      "Manual offset applied to uwsunlab_12_wellplate_4000ul\n",
      "Manual offset saved\n",
      "Manual offset applied (1×2 plate),  x_adjust=0.0, y_adjust=0.0\n",
      "Manual offset saved.\n",
      "Manual offset applied to uwsunlab_12_wellplate_4000ul\n",
      "Manual offset saved\n",
      "Manual offset applied to uwsunlab_12_wellplate_4000ul\n",
      "Manual offset saved\n"
     ]
    }
   ],
   "source": [
    "deck = Deck(\"lab_automation_deck\") # We are not using the deck, so operate any deck.json \n",
    "\n",
    "# -------------Position JSON file for Pipette ---------------------#\n",
    "tiprack = deck.load_labware(labware_filename = 'opentrons_96_tiprack_1000ul_axo.json', slot = 5)   # Load an opentrons 20uL\n",
    "tiprack.manual_offset2([[274.1, 219.8],[173.1, 220.0],[173.1, 282.0]], save = True)   # Save through list of list. List of coordinates should be A1 A12 H12 subsequently. \n",
    "samples_ot2 = deck.load_labware(\"uwsunlab_12_wellplate_4000ul_pipette_1.json\", slot = 2)\n",
    "samples_ot2.manual_offset2([[131.3, 135.5], [36.5, 135.8], [36.5, 176.8]], save = True)\n",
    "samples2_ot2 = deck.load_labware(\"uwsunlab_12_wellplate_4000ul_pipette_2.json\", slot = 0)\n",
    "samples2_ot2.manual_offset2([[129.8, 40], [35.9, 38.8], [35.9, 79.8]], save = True)\n",
    "solvent = deck.load_labware(\"uwsunlab_1_reservoir_60000ul.json\", slot = 3)\n",
    "solvent.manual_offset_small_plate([[225.2, 155.8]], save = True)\n",
    "    \n",
    "# -------------Position JSON file for Dual Syringe ---------------#\n",
    "samples_sy = deck.load_labware('uwsunlab_12_wellplate_4000ul_1.json', slot = 2)\n",
    "samples_sy.manual_offset2([[132.7, 132.6],[38.6, 132.6], [38.6, 174.2]], save = True)\n",
    "samples2_sy = deck.load_labware('uwsunlab_12_wellplate_4000ul_2.json', slot = 0)\n",
    "samples2_sy.manual_offset2([[132.2, 36.3], [38.2, 36.3], [38.2, 77.5]], save = True)\n",
    "precursors = deck.load_labware('uwsunlab_2_wellplate_60000ul.json', slot = 1)\n",
    "precursors.manual_offset_small_plate([[245.0, 60.0], [197.0, 60.0]], save = True)\n",
    "# -----------Position JSON file for Spectrometer----------------# \n",
    "samples_spec = deck.load_labware('uwsunlab_12_wellplate_4000ul_spec_1.json', slot = 2)\n",
    "samples_spec.manual_offset2([[128.3, 132.8],[34.0, 132.8], [34.0, 173.8]], save = True)\n",
    "samples2_spec = deck.load_labware('uwsunlab_12_wellplate_4000ul_spec_2.json', slot = 0)\n",
    "samples2_spec.manual_offset2([[127.3, 35.6], [32.9, 35.6], [33.5, 77.4]], save = True)\n",
    "\n",
    "# ----------Position JSON file for Vacuum Gripper---------------#"
   ]
  },
  {
   "cell_type": "markdown",
   "id": "789fe1f5",
   "metadata": {},
   "source": [
    "# **Clear labwares on the Bed** #"
   ]
  },
  {
   "cell_type": "markdown",
   "id": "8a298be6",
   "metadata": {},
   "source": [
    "### **Homing to map the X,Y,Z, V axis** ###"
   ]
  },
  {
   "cell_type": "code",
   "execution_count": 35,
   "id": "27d9b851",
   "metadata": {},
   "outputs": [],
   "source": [
    "axo = Machine(address = '192.168.1.2')"
   ]
  },
  {
   "cell_type": "code",
   "execution_count": 36,
   "id": "fc83dbf5",
   "metadata": {},
   "outputs": [],
   "source": [
    "axo.home_all()\n",
    "axo.move_to(z=180) # Safest Z location"
   ]
  },
  {
   "cell_type": "markdown",
   "id": "d9636074",
   "metadata": {},
   "source": [
    "### **Load labwares to the deck** ###"
   ]
  },
  {
   "cell_type": "code",
   "execution_count": 37,
   "id": "d3d5b8f1",
   "metadata": {},
   "outputs": [
    {
     "name": "stdout",
     "output_type": "stream",
     "text": [
      "Manual offset applied to opentrons_96_tiprack_1000ul\n",
      "Manual offset applied to uwsunlab_12_wellplate_4000ul\n",
      "Manual offset applied to uwsunlab_12_wellplate_4000ul\n",
      "Manual offset applied (1×1 plate),  x_adjust=0.0, y_adjust=0.0\n",
      "Manual offset applied to uwsunlab_12_wellplate_4000ul\n",
      "Manual offset applied to uwsunlab_12_wellplate_4000ul\n",
      "Manual offset applied (1×2 plate),  x_adjust=0.0, y_adjust=0.0\n",
      "Manual offset applied to uwsunlab_12_wellplate_4000ul\n",
      "Manual offset applied to uwsunlab_12_wellplate_4000ul\n"
     ]
    }
   ],
   "source": [
    "deck = axo.load_deck(\"lab_automation_deck\")\n",
    "\n",
    "## ---------------------OT2 1000ul Pipette ----------------------------##\n",
    "tiprack = axo.load_labware(\"opentrons_96_tiprack_1000ul_axo.json\", 5)\n",
    "tiprack.load_manualOffset()\n",
    "samples_ot2 = axo.load_labware('uwsunlab_12_wellplate_4000ul_pipette_1.json', 2)\n",
    "samples_ot2.load_manualOffset()\n",
    "samples2_ot2 = axo.load_labware('uwsunlab_12_wellplate_4000ul_pipette_2.json', 0)\n",
    "samples2_ot2.load_manualOffset()\n",
    "solvent = axo.load_labware('uwsunlab_1_reservoir_60000ul.json', 3)\n",
    "solvent.load_manualOffset()\n",
    "trash = (-0.9, 55.8, 99)\n",
    "## -------------------------------------------------------------------##\n",
    "#pipette = Pipette(0, \"Pipette\", brand = \"opentron\", model = \"config\", max_volume= 20, min_volume= 0, zero_position = (0,0,0),\\\n",
    "#    blowout_position=None, drop_tip_position = None, mm_to_ul = None)# model = \"config\")\n",
    "\n",
    "## ---------------------Dual Syringe Pump ----------------------------##\n",
    "samples_sy = axo.load_labware('uwsunlab_12_wellplate_4000ul_1.json', 2)\n",
    "samples_sy.load_manualOffset()\n",
    "samples2_sy = axo.load_labware('uwsunlab_12_wellplate_4000ul_2.json', 0)\n",
    "samples2_sy.load_manualOffset()\n",
    "precursors = axo.load_labware('uwsunlab_2_wellplate_60000ul.json', 1)\n",
    "precursors.load_manualOffset()\n",
    "## ------------------------------------------------------------------##\n",
    "\n",
    "## --------------------------Spectrometer -------------------------------##\n",
    "samples_spec = axo.load_labware('uwsunlab_12_wellplate_4000ul_spec_1.json', 2)\n",
    "samples_spec.load_manualOffset()\n",
    "samples2_spec = axo.load_labware('uwsunlab_12_wellplate_4000ul_spec_2.json', 0)\n",
    "samples2_spec.load_manualOffset()\n",
    "## ----------------------------------------------------------------------##\n",
    "\n",
    "## ------------------------Vacuum Gripper --------------------------------##\n",
    "vacuum_location = [(84, 51, 0),  # Slot 0 (12 Well Plate)\n",
    "                   (225, 57, 0), # Slot 1 (2 Precursor Container)\n",
    "                   (84, 147, 0), # Slot 2 (12 Well Plate)\n",
    "                   (225, 149, 0), # Slot 3 (1 Solvent Container)\n",
    "                   (79, 244, 0)] # Slot 4 (Lid Containter)\n",
    "\n"
   ]
  },
  {
   "cell_type": "code",
   "execution_count": 83,
   "id": "18c85b86",
   "metadata": {},
   "outputs": [
    {
     "data": {
      "text/plain": [
       "97.47"
      ]
     },
     "execution_count": 83,
     "metadata": {},
     "output_type": "execute_result"
    }
   ],
   "source": [
    "deck.safe_z # The highest height among the labware loaded to the deck"
   ]
  },
  {
   "cell_type": "code",
   "execution_count": 39,
   "id": "77d99075",
   "metadata": {},
   "outputs": [
    {
     "name": "stdout",
     "output_type": "stream",
     "text": [
      "Location(point=(35.599999999999994, 176.0, 10), labware=Well B6 form UWSUNLAB 12 Well Plate 4000 µL on slot 2)\n",
      "Location(point=(129.9, 133.3, 55), labware=Well A1 form UWSUNLAB 12 Well Plate 4000 µL on slot 2)\n"
     ]
    }
   ],
   "source": [
    "type(samples2_ot2[0])\n",
    "print(samples_sy[11].bottom(5))\n",
    "print(samples_sy[0].top(5))\n"
   ]
  },
  {
   "cell_type": "code",
   "execution_count": 8,
   "id": "97cc11ff",
   "metadata": {},
   "outputs": [
    {
     "name": "stdout",
     "output_type": "stream",
     "text": [
      "Slope: 0.0671 ml/mm\n",
      "Intercept: -0.2166 ml\n"
     ]
    },
    {
     "data": {
      "image/png": "[encoded data removed]",
      "text/plain": [
       "<Figure size 640x480 with 1 Axes>"
      ]
     },
     "metadata": {},
     "output_type": "display_data"
    }
   ],
   "source": [
    "# Data: linear movement (mm) and corresponding volume (ml)\n",
    "volume_ml = np.array([10.0658, 9.3605, 4.8707, 4.9170, 4.8899, 2.2181, 2.2002, 6.5860, 10.0196])\n",
    "linear_movement_mm = np.array([150, 150, 75, 75, 75, 37.5, 37.5, 100, 150])\n",
    "\n",
    "# Reshape for regression\n",
    "X = linear_movement_mm.reshape(-1, 1)\n",
    "y = volume_ml\n",
    "\n",
    "# Linear regression\n",
    "model = LinearRegression()\n",
    "model.fit(X, y)\n",
    "\n",
    "slope = model.coef_[0]\n",
    "intercept = model.intercept_\n",
    "\n",
    "print(f'Slope: {slope:.4f} ml/mm')\n",
    "print(f'Intercept: {intercept:.4f} ml')\n",
    "\n",
    "# Plot\n",
    "plt.scatter(X, y, color='blue', label='Data Points')\n",
    "plt.plot(X, model.predict(X), color='red', label=f'Fit Line (slope={slope:.4f})')\n",
    "plt.xlabel('Linear Movement (mm)')\n",
    "plt.ylabel('Volume (ml)')\n",
    "plt.title('Linear Regression: Volume vs Linear Movement')\n",
    "plt.legend()\n",
    "plt.grid(True)\n",
    "plt.show()"
   ]
  },
  {
   "cell_type": "markdown",
   "id": "79dd8052",
   "metadata": {},
   "source": [
    "### **Before using the tools, always check the functions**"
   ]
  },
  {
   "cell_type": "markdown",
   "id": "e3fa5f6a",
   "metadata": {},
   "source": [
    "#### **Load Dual Syringe Pump to the machine** ####"
   ]
  },
  {
   "cell_type": "code",
   "execution_count": 82,
   "id": "09dc9d4e",
   "metadata": {},
   "outputs": [],
   "source": [
    "syringe = DoubleSyringe(index = 2, \n",
    "                        name = 'Syringe_Pump', \n",
    "                        config = '10cc_syringe')\n",
    "# You always need to load your tool to the machine\n",
    "axo.load_tool(syringe)"
   ]
  },
  {
   "cell_type": "code",
   "execution_count": 26,
   "id": "f9b91845",
   "metadata": {},
   "outputs": [
    {
     "name": "stdout",
     "output_type": "stream",
     "text": [
      "150\n",
      "0\n",
      "15\n",
      "E0\n",
      "E1\n"
     ]
    }
   ],
   "source": [
    "# Check initiated attributes\n",
    "print(syringe.max_range)\n",
    "print(syringe.min_range)\n",
    "print(syringe.mm_to_ml)\n",
    "print(syringe.e0_drive)\n",
    "print(syringe.e1_drive)"
   ]
  },
  {
   "cell_type": "code",
   "execution_count": 9,
   "id": "81de7bef",
   "metadata": {},
   "outputs": [],
   "source": [
    "syringe.check_bounds(0) # Lower Bound\n",
    "syringe.check_bounds(150) # Upper Bound"
   ]
  },
  {
   "cell_type": "code",
   "execution_count": 27,
   "id": "1d7de3e0",
   "metadata": {},
   "outputs": [
    {
     "name": "stdout",
     "output_type": "stream",
     "text": [
      "30.0\n",
      "45.0\n"
     ]
    }
   ],
   "source": [
    "pos = axo.get_position()\n",
    "print(float(pos['E0']))\n",
    "print(float(pos['E1']))"
   ]
  },
  {
   "cell_type": "markdown",
   "id": "923d986f",
   "metadata": {},
   "source": [
    "### **Pick Up Dual Syringe Pump** ###"
   ]
  },
  {
   "cell_type": "code",
   "execution_count": null,
   "id": "ee8515f8",
   "metadata": {},
   "outputs": [],
   "source": [
    "axo.pickup_tool(syringe)"
   ]
  },
  {
   "cell_type": "code",
   "execution_count": 16,
   "id": "7b517dd2",
   "metadata": {},
   "outputs": [],
   "source": [
    "axo.move_to(x=150, y=150)"
   ]
  },
  {
   "cell_type": "code",
   "execution_count": 25,
   "id": "e86e4e65",
   "metadata": {},
   "outputs": [],
   "source": [
    "# When tool is active, the extruder assigned to driver (Working)\n",
    "axo.move(de0=-75)"
   ]
  },
  {
   "cell_type": "markdown",
   "id": "d58ceb35",
   "metadata": {},
   "source": [
    "### **Check if aspirate is working** ###"
   ]
  },
  {
   "cell_type": "markdown",
   "id": "d5c1123d",
   "metadata": {},
   "source": [
    "### Right Syringe"
   ]
  },
  {
   "cell_type": "code",
   "execution_count": null,
   "id": "54ebd6ab",
   "metadata": {},
   "outputs": [
    {
     "name": "stdout",
     "output_type": "stream",
     "text": [
      "Current_pos = 0.0\n"
     ]
    },
    {
     "data": {
      "text/plain": [
       "5.0"
      ]
     },
     "execution_count": 22,
     "metadata": {},
     "output_type": "execute_result"
    }
   ],
   "source": [
    "# Without active-tool E0 (Working)\n",
    "#syringe._aspirate(vol = 10, drive = 'E0', s = 500)"
   ]
  },
  {
   "cell_type": "markdown",
   "id": "92b0bd78",
   "metadata": {},
   "source": [
    "### Left Syringe"
   ]
  },
  {
   "cell_type": "code",
   "execution_count": null,
   "id": "b837f5a9",
   "metadata": {},
   "outputs": [],
   "source": [
    "#syringe._aspirate(vol = 5, drive = 'E1', s = 500)"
   ]
  },
  {
   "cell_type": "markdown",
   "id": "6a1e8ba0",
   "metadata": {},
   "source": [
    "#### **\"aspirate_e0\" goes to desired labware location and performs aspirate for Right Syringe** ####"
   ]
  },
  {
   "cell_type": "markdown",
   "id": "1916f8c8",
   "metadata": {},
   "source": [
    "####  **Loaded \"precursors\" json file are class type 'Labware' which represent a basic laboratory labware made up of set of wells/pipette tips, but each well of labware (e.g precursors['A1'], precursors[0]) are class type 'Well' which object with various information about the geometry of the well and its position in the labware** ##"
   ]
  },
  {
   "cell_type": "markdown",
   "id": "7e2c7d65",
   "metadata": {},
   "source": [
    "#### **top(..) indicates the tools to dynamically offset relativally top-most point of the well** ###\n",
    "#### **bottom(..) indicates the tools to offset from the bottom of the well.** ###"
   ]
  },
  {
   "cell_type": "code",
   "execution_count": 11,
   "id": "dff5ea98",
   "metadata": {},
   "outputs": [
    {
     "name": "stdout",
     "output_type": "stream",
     "text": [
      "53\n",
      "8\n"
     ]
    }
   ],
   "source": [
    "print(precursors[0].top_) # top-most z location (bottom + depth)\n",
    "print(precursors[0].bottom_) # bottom z location (bottom)"
   ]
  },
  {
   "cell_type": "code",
   "execution_count": 66,
   "id": "25038c52",
   "metadata": {},
   "outputs": [
    {
     "data": {
      "text/plain": [
       "1.0"
      ]
     },
     "execution_count": 66,
     "metadata": {},
     "output_type": "execute_result"
    }
   ],
   "source": [
    "syringe.aspirate_e0(1, precursors[1].top(1), s=500)"
   ]
  },
  {
   "cell_type": "code",
   "execution_count": 68,
   "id": "46d4ad8b",
   "metadata": {},
   "outputs": [
    {
     "data": {
      "text/plain": [
       "1.0"
      ]
     },
     "execution_count": 68,
     "metadata": {},
     "output_type": "execute_result"
    }
   ],
   "source": [
    "syringe.aspirate_e0(1, precursors[1], s=500)"
   ]
  },
  {
   "cell_type": "code",
   "execution_count": 67,
   "id": "b8ac6abd",
   "metadata": {},
   "outputs": [
    {
     "data": {
      "text/plain": [
       "1.0"
      ]
     },
     "execution_count": 67,
     "metadata": {},
     "output_type": "execute_result"
    }
   ],
   "source": [
    "syringe.aspirate_e1(1, precursors[0].top(1), s=500)"
   ]
  },
  {
   "cell_type": "markdown",
   "id": "fb87acd9",
   "metadata": {},
   "source": [
    "### **aspirate_e1 goes to desired labware location and performs aspirate for Left Syringe** ###"
   ]
  },
  {
   "cell_type": "code",
   "execution_count": 30,
   "id": "ef8932cc",
   "metadata": {},
   "outputs": [
    {
     "ename": "ToolStateError",
     "evalue": "Error: Tool Syringe_Pump is not the current `Active Tool`. Cannot perform this action",
     "output_type": "error",
     "traceback": [
      "\u001b[1;31m---------------------------------------------------------------------------\u001b[0m",
      "\u001b[1;31mToolStateError\u001b[0m                            Traceback (most recent call last)",
      "Cell \u001b[1;32mIn[30], line 1\u001b[0m\n\u001b[1;32m----> 1\u001b[0m \u001b[43msyringe\u001b[49m\u001b[38;5;241;43m.\u001b[39;49m\u001b[43maspirate_e1\u001b[49m\u001b[43m(\u001b[49m\u001b[38;5;241;43m5\u001b[39;49m\u001b[43m,\u001b[49m\u001b[43m \u001b[49m\u001b[43mprecursors\u001b[49m\u001b[43m[\u001b[49m\u001b[38;5;241;43m0\u001b[39;49m\u001b[43m]\u001b[49m\u001b[43m,\u001b[49m\u001b[43m \u001b[49m\u001b[43ms\u001b[49m\u001b[38;5;241;43m=\u001b[39;49m\u001b[38;5;241;43m500\u001b[39;49m\u001b[43m)\u001b[49m\n",
      "File \u001b[1;32mC:\\science-jubilee\\src\\science_jubilee\\tools\\Tool.py:45\u001b[0m, in \u001b[0;36mrequires_active_tool.<locals>.wrapper\u001b[1;34m(self, *args, **kwargs)\u001b[0m\n\u001b[0;32m     43\u001b[0m \u001b[38;5;28;01mdef\u001b[39;00m \u001b[38;5;21mwrapper\u001b[39m(\u001b[38;5;28mself\u001b[39m, \u001b[38;5;241m*\u001b[39margs, \u001b[38;5;241m*\u001b[39m\u001b[38;5;241m*\u001b[39mkwargs):\n\u001b[0;32m     44\u001b[0m     \u001b[38;5;28;01mif\u001b[39;00m \u001b[38;5;28mself\u001b[39m\u001b[38;5;241m.\u001b[39mis_active_tool \u001b[38;5;241m==\u001b[39m \u001b[38;5;28;01mFalse\u001b[39;00m:\n\u001b[1;32m---> 45\u001b[0m         \u001b[38;5;28;01mraise\u001b[39;00m ToolStateError(\n\u001b[0;32m     46\u001b[0m             \u001b[38;5;124mf\u001b[39m\u001b[38;5;124m\"\u001b[39m\u001b[38;5;124mError: Tool \u001b[39m\u001b[38;5;132;01m{\u001b[39;00m\u001b[38;5;28mself\u001b[39m\u001b[38;5;241m.\u001b[39mname\u001b[38;5;132;01m}\u001b[39;00m\u001b[38;5;124m is not the current `Active Tool`. Cannot perform this action\u001b[39m\u001b[38;5;124m\"\u001b[39m\n\u001b[0;32m     47\u001b[0m         )\n\u001b[0;32m     48\u001b[0m     \u001b[38;5;28;01melse\u001b[39;00m:\n\u001b[0;32m     49\u001b[0m         \u001b[38;5;28;01mreturn\u001b[39;00m func(\u001b[38;5;28mself\u001b[39m, \u001b[38;5;241m*\u001b[39margs, \u001b[38;5;241m*\u001b[39m\u001b[38;5;241m*\u001b[39mkwargs)\n",
      "\u001b[1;31mToolStateError\u001b[0m: Error: Tool Syringe_Pump is not the current `Active Tool`. Cannot perform this action"
     ]
    }
   ],
   "source": [
    "syringe.aspirate_e1(5, precursors[0], s=500)"
   ]
  },
  {
   "cell_type": "markdown",
   "id": "54ccbdde",
   "metadata": {},
   "source": [
    "#### **Actually you only need to use \"dispense_e0\" or \"dispense_e1\". Those function automatically aspirate (refill to the end) from solution containers and returns back to the position where we want to dispense** ####"
   ]
  },
  {
   "cell_type": "markdown",
   "id": "42456ed6",
   "metadata": {},
   "source": [
    "#### **Dispense_e0 & Dispense_e1 performs automatic refill** #### "
   ]
  },
  {
   "cell_type": "markdown",
   "id": "cbb45474",
   "metadata": {},
   "source": [
    "##### First Dispenses at wellplate located at deck slot 2 "
   ]
  },
  {
   "cell_type": "code",
   "execution_count": null,
   "id": "00651e92",
   "metadata": {},
   "outputs": [
    {
     "data": {
      "text/plain": [
       "5.0"
      ]
     },
     "execution_count": 12,
     "metadata": {},
     "output_type": "execute_result"
    }
   ],
   "source": [
    "syringe.dispense_e0(1, samples_sy[0].top(2), precursors[0], s=500)"
   ]
  },
  {
   "cell_type": "code",
   "execution_count": 62,
   "id": "20e6e59c",
   "metadata": {},
   "outputs": [
    {
     "data": {
      "text/plain": [
       "1.0"
      ]
     },
     "execution_count": 62,
     "metadata": {},
     "output_type": "execute_result"
    }
   ],
   "source": [
    "syringe.dispense_e1(1, samples_sy['B6'].top(2), precursors[0], s=500)"
   ]
  },
  {
   "cell_type": "code",
   "execution_count": null,
   "id": "8270569a",
   "metadata": {},
   "outputs": [
    {
     "data": {
      "text/plain": [
       "1.0"
      ]
     },
     "execution_count": 68,
     "metadata": {},
     "output_type": "execute_result"
    }
   ],
   "source": [
    "syringe.dispense_e1(1, samples2_sy['A1'].top(-10), precursors[0], s=500)"
   ]
  },
  {
   "cell_type": "code",
   "execution_count": 69,
   "id": "3f1d6d77",
   "metadata": {},
   "outputs": [
    {
     "data": {
      "text/plain": [
       "1.0"
      ]
     },
     "execution_count": 69,
     "metadata": {},
     "output_type": "execute_result"
    }
   ],
   "source": [
    "syringe.dispense_e1(1, samples2_sy['A6'].top(-10), precursors[0], s=500)"
   ]
  },
  {
   "cell_type": "code",
   "execution_count": 70,
   "id": "4534be9a",
   "metadata": {},
   "outputs": [
    {
     "data": {
      "text/plain": [
       "1.0"
      ]
     },
     "execution_count": 70,
     "metadata": {},
     "output_type": "execute_result"
    }
   ],
   "source": [
    "syringe.dispense_e1(1, samples2_sy['B6'].top(-10), precursors[0], s=500)"
   ]
  },
  {
   "cell_type": "markdown",
   "id": "06110f5e",
   "metadata": {},
   "source": [
    "#### For 12 Well Plate Dispense & Refill routine ####"
   ]
  },
  {
   "cell_type": "code",
   "execution_count": 84,
   "id": "d894edee",
   "metadata": {},
   "outputs": [],
   "source": [
    "for i in range(6):\n",
    "    syringe.dispense_e1(1, samples_sy[i].top(1), precursors[0], s= 300)\n",
    "    syringe.dispense_e0(1, samples_sy[i].top(1), precursors[0], s= 300)"
   ]
  },
  {
   "cell_type": "markdown",
   "id": "f0fd4d95",
   "metadata": {},
   "source": [
    "##### Next Dispenses at wellplate located at deck slot 0 "
   ]
  },
  {
   "cell_type": "code",
   "execution_count": 72,
   "id": "06d44758",
   "metadata": {},
   "outputs": [
    {
     "data": {
      "text/plain": [
       "1.0"
      ]
     },
     "execution_count": 72,
     "metadata": {},
     "output_type": "execute_result"
    }
   ],
   "source": [
    "syringe.dispense_e0(1, samples2_sy[0].top(2), precursors[1], s=500)"
   ]
  },
  {
   "cell_type": "code",
   "execution_count": 73,
   "id": "0345dfc7",
   "metadata": {},
   "outputs": [
    {
     "data": {
      "text/plain": [
       "1.0"
      ]
     },
     "execution_count": 73,
     "metadata": {},
     "output_type": "execute_result"
    }
   ],
   "source": [
    "syringe.dispense_e1(1, samples2_sy[0].top(2), precursors[0], s=500)"
   ]
  },
  {
   "cell_type": "code",
   "execution_count": 74,
   "id": "a65f5d07",
   "metadata": {},
   "outputs": [
    {
     "data": {
      "text/plain": [
       "1.0"
      ]
     },
     "execution_count": 74,
     "metadata": {},
     "output_type": "execute_result"
    }
   ],
   "source": [
    "syringe.dispense_e1(1, samples2_sy['A6'].top(2), precursors[0], s=500)"
   ]
  },
  {
   "cell_type": "code",
   "execution_count": 75,
   "id": "7e7ee717",
   "metadata": {},
   "outputs": [
    {
     "data": {
      "text/plain": [
       "1.0"
      ]
     },
     "execution_count": 75,
     "metadata": {},
     "output_type": "execute_result"
    }
   ],
   "source": [
    "syringe.dispense_e1(1, samples2_sy['B6'].top(2), precursors[0], s=500)"
   ]
  },
  {
   "cell_type": "markdown",
   "id": "f3d34a43",
   "metadata": {},
   "source": [
    "### **Check the dual syringe routine** ### \n",
    "#### ***Assume we are dispensing two solutions to the well plate*** ####"
   ]
  },
  {
   "cell_type": "code",
   "execution_count": null,
   "id": "cd7264db",
   "metadata": {},
   "outputs": [],
   "source": [
    "# z = 40 dispensing location was the best, so top(-10)\n",
    "for i in range(12):\n",
    "    syringe.dispense_e1(1, samples_sy[i].top(-10), precursors[0], s = 500)\n",
    "    syringe.dispense_e0(1, samples_sy[i].top(-10), precursors[0], s = 500)\n",
    "# Took 5m 13.1s for dispensing all the solution in 12 well plate"
   ]
  },
  {
   "cell_type": "code",
   "execution_count": 21,
   "id": "36fe047f",
   "metadata": {},
   "outputs": [
    {
     "data": {
      "text/plain": [
       "1.0"
      ]
     },
     "execution_count": 21,
     "metadata": {},
     "output_type": "execute_result"
    }
   ],
   "source": [
    "# Z = 1.0 aspirate location was the best, json file bottom z location changed\n",
    "syringe.aspirate_e1(1, precursors[0], s = 500)"
   ]
  },
  {
   "cell_type": "code",
   "execution_count": 23,
   "id": "536c3bb5",
   "metadata": {},
   "outputs": [
    {
     "data": {
      "text/plain": [
       "1.0"
      ]
     },
     "execution_count": 23,
     "metadata": {},
     "output_type": "execute_result"
    }
   ],
   "source": [
    "syringe.aspirate_e0(1, precursors[1], s = 500)"
   ]
  },
  {
   "cell_type": "code",
   "execution_count": 26,
   "id": "401e83d4",
   "metadata": {},
   "outputs": [
    {
     "data": {
      "text/plain": [
       "1.0"
      ]
     },
     "execution_count": 26,
     "metadata": {},
     "output_type": "execute_result"
    }
   ],
   "source": [
    "syringe.dispense_e1(1, samples_sy[5].top(-20), precursors[0], s=500)"
   ]
  },
  {
   "cell_type": "markdown",
   "id": "5d55399a",
   "metadata": {},
   "source": [
    "#### **Check for slot0 wellplate** ####"
   ]
  },
  {
   "cell_type": "code",
   "execution_count": 85,
   "id": "f042be59",
   "metadata": {},
   "outputs": [],
   "source": [
    "for i in range(12):\n",
    "    syringe.dispense_e1(1, samples2_sy[i].top(-10), precursors[0], s = 500)\n",
    "    syringe.dispense_e0(1, samples2_sy[i].top(-10), precursors[0], s = 500)"
   ]
  },
  {
   "cell_type": "markdown",
   "id": "ad3fa7c6",
   "metadata": {},
   "source": [
    "### **After all experiments are done return all the drives in 0 position** ###"
   ]
  },
  {
   "cell_type": "code",
   "execution_count": 86,
   "id": "43ff7bf7",
   "metadata": {},
   "outputs": [],
   "source": [
    "syringe.reset_position()"
   ]
  },
  {
   "cell_type": "code",
   "execution_count": 87,
   "id": "b2add16d",
   "metadata": {},
   "outputs": [],
   "source": [
    "axo.park_tool()"
   ]
  },
  {
   "cell_type": "markdown",
   "id": "8054657c",
   "metadata": {},
   "source": [
    "# **Spectrometer (Install the API from Oceandirect)** #"
   ]
  },
  {
   "cell_type": "code",
   "execution_count": 38,
   "id": "b6b79670",
   "metadata": {},
   "outputs": [
    {
     "name": "stdout",
     "output_type": "stream",
     "text": [
      "Opened Spectrometer 2\n"
     ]
    }
   ],
   "source": [
    "spectrometer = Spectrometer(index = 3, \n",
    "                            name = 'Spectrometer', \n",
    "                            base_dir=r\"C:\\Users\\ADITI\\Downloads\\Aditya\\Axo_Jubilee\\science-jubilee\\axo\\spectrum_data\",\n",
    "                            plate_id = 'testing',\n",
    "                            ref_dark = 'dark_20250528_144107.npy',\n",
    "                            ref_white = 'white_20250528_144214.npy')\n",
    "axo.load_tool(spectrometer)"
   ]
  },
  {
   "cell_type": "markdown",
   "id": "8fca3e6b",
   "metadata": {},
   "source": [
    "### **Check your reference_spectrum (dark, white).** \n",
    "#### **If doesn't exist, measure it and save it through base_dir/ref** ##"
   ]
  },
  {
   "cell_type": "code",
   "execution_count": 13,
   "id": "4ff6b98b",
   "metadata": {},
   "outputs": [
    {
     "name": "stdout",
     "output_type": "stream",
     "text": [
      "[-114.1123017  -142.80711771 -123.48161073 ... -192.50976912 -223.82180138\n",
      " -223.40350395]\n"
     ]
    }
   ],
   "source": [
    "print(spectrometer.dark)"
   ]
  },
  {
   "cell_type": "code",
   "execution_count": 14,
   "id": "3f9984b9",
   "metadata": {},
   "outputs": [
    {
     "name": "stdout",
     "output_type": "stream",
     "text": [
      "[-174.08283305 -203.07899527 -177.87063677 ... -236.17748948 -284.79694935\n",
      " -284.37865305]\n"
     ]
    }
   ],
   "source": [
    "print(spectrometer.white)"
   ]
  },
  {
   "cell_type": "code",
   "execution_count": 99,
   "id": "823f327c",
   "metadata": {},
   "outputs": [
    {
     "name": "stdout",
     "output_type": "stream",
     "text": [
      "dark_20250528_144107\n",
      "white_20250528_144214\n"
     ]
    }
   ],
   "source": [
    "print(spectrometer.dark_id)\n",
    "print(spectrometer.white_id)"
   ]
  },
  {
   "cell_type": "code",
   "execution_count": 39,
   "id": "f077bf8b",
   "metadata": {},
   "outputs": [],
   "source": [
    "axo.pickup_tool(spectrometer)"
   ]
  },
  {
   "cell_type": "markdown",
   "id": "6f0bd6a4",
   "metadata": {},
   "source": [
    "### **Configure your spectrometer's parameters** ###\n",
    "#### **You can use the Default version** ####"
   ]
  },
  {
   "cell_type": "code",
   "execution_count": 40,
   "id": "9729f9b3",
   "metadata": {},
   "outputs": [],
   "source": [
    "spectrometer.configure_device()"
   ]
  },
  {
   "cell_type": "code",
   "execution_count": 41,
   "id": "075e8c84",
   "metadata": {},
   "outputs": [
    {
     "data": {
      "text/plain": [
       "'dark_20250625_133007'"
      ]
     },
     "execution_count": 41,
     "metadata": {},
     "output_type": "execute_result"
    }
   ],
   "source": [
    "spectrometer.set_dark() "
   ]
  },
  {
   "cell_type": "code",
   "execution_count": 42,
   "id": "8c01abbe",
   "metadata": {},
   "outputs": [
    {
     "data": {
      "text/plain": [
       "'white_20250625_133010'"
      ]
     },
     "execution_count": 42,
     "metadata": {},
     "output_type": "execute_result"
    }
   ],
   "source": [
    "spectrometer.set_white()"
   ]
  },
  {
   "cell_type": "code",
   "execution_count": 46,
   "id": "2ba855d3",
   "metadata": {},
   "outputs": [],
   "source": [
    "spectrometer.position_probe(samples_spec[0].top(-5))"
   ]
  },
  {
   "cell_type": "code",
   "execution_count": 98,
   "id": "42c78455",
   "metadata": {},
   "outputs": [],
   "source": [
    "spectrometer.position_probe(samples2_spec['B6'].top(2))"
   ]
  },
  {
   "cell_type": "markdown",
   "id": "a91be011",
   "metadata": {},
   "source": [
    "### **Spectrometer Probe to well plate (Use this for positioning)** ###"
   ]
  },
  {
   "cell_type": "markdown",
   "id": "33fa10ea",
   "metadata": {},
   "source": [
    "#### Probe to wellplate located at Deck slot 2 (This is just probing the spectrometers befroe measurement)"
   ]
  },
  {
   "cell_type": "code",
   "execution_count": 27,
   "id": "3a2ccdfa",
   "metadata": {},
   "outputs": [],
   "source": [
    "for i in range(12):\n",
    "    spectrometer.position_probe(samples_spec[i].top(2))"
   ]
  },
  {
   "cell_type": "markdown",
   "id": "5a706f56",
   "metadata": {},
   "source": [
    "#### Probe to wellplate located at Deck slot 0 (This is just probing the spectrometers befroe measurement)"
   ]
  },
  {
   "cell_type": "code",
   "execution_count": 31,
   "id": "67a0fe56",
   "metadata": {},
   "outputs": [],
   "source": [
    "for i in range(12):\n",
    "    spectrometer.position_probe(samples2_spec[i].top(2))"
   ]
  },
  {
   "cell_type": "markdown",
   "id": "f781df1e",
   "metadata": {},
   "source": [
    "### **Now collect_spectrum will perform measurements and probes** ###"
   ]
  },
  {
   "cell_type": "code",
   "execution_count": 47,
   "id": "25ae5491",
   "metadata": {},
   "outputs": [
    {
     "data": {
      "text/plain": [
       "(array([ 194.02957153,  194.57849831,  195.1273039 , ..., 1102.96248167,\n",
       "        1103.3101147 , 1103.657674  ], shape=(2068,)),\n",
       " array([ -66.74080026,  -95.43544385,  -84.94428105, ..., -152.40592872,\n",
       "        -176.75078307, -177.16908057], shape=(2068,)))"
      ]
     },
     "execution_count": 47,
     "metadata": {},
     "output_type": "execute_result"
    }
   ],
   "source": [
    "spectrometer.collect_spectrum(samples_spec[0].top(-5), 15, save= True)"
   ]
  },
  {
   "cell_type": "code",
   "execution_count": 95,
   "id": "90ab05f1",
   "metadata": {},
   "outputs": [],
   "source": [
    "spectrometer.position_probe(samples_spec['A6'].top(2))"
   ]
  },
  {
   "cell_type": "code",
   "execution_count": 22,
   "id": "c90dede9",
   "metadata": {},
   "outputs": [
    {
     "data": {
      "text/plain": [
       "Well A1 form UWSUNLAB 12 Well Plate 4000 µL on slot 2"
      ]
     },
     "execution_count": 22,
     "metadata": {},
     "output_type": "execute_result"
    }
   ],
   "source": [
    "samples_spec[0].top(2)._labware"
   ]
  },
  {
   "cell_type": "code",
   "execution_count": 19,
   "id": "acd163e9",
   "metadata": {},
   "outputs": [
    {
     "data": {
      "text/plain": [
       "np.str_('A1')"
      ]
     },
     "execution_count": 19,
     "metadata": {},
     "output_type": "execute_result"
    }
   ],
   "source": [
    "samples_spec[0].name"
   ]
  },
  {
   "cell_type": "code",
   "execution_count": 104,
   "id": "024d6a82",
   "metadata": {},
   "outputs": [],
   "source": [
    "for i in range(12):\n",
    "    spectrometer.collect_spectrum(samples_spec[i].top(2), 15, save= True)\n",
    "\n",
    "for i in range(12):\n",
    "    spectrometer.collect_spectrum(samples2_spec[i].top(2), 16, save = True)"
   ]
  },
  {
   "cell_type": "code",
   "execution_count": 23,
   "id": "74edd041",
   "metadata": {},
   "outputs": [
    {
     "data": {
      "text/plain": [
       "np.str_('A1')"
      ]
     },
     "execution_count": 23,
     "metadata": {},
     "output_type": "execute_result"
    }
   ],
   "source": [
    "tiprack[0].name"
   ]
  },
  {
   "cell_type": "code",
   "execution_count": 23,
   "id": "542f262b",
   "metadata": {},
   "outputs": [
    {
     "data": {
      "text/plain": [
       "'A1'"
      ]
     },
     "execution_count": 23,
     "metadata": {},
     "output_type": "execute_result"
    }
   ],
   "source": [
    "str(samples_spec[0].name)"
   ]
  },
  {
   "cell_type": "code",
   "execution_count": 20,
   "id": "61855336",
   "metadata": {},
   "outputs": [
    {
     "data": {
      "text/plain": [
       "np.str_('A5')"
      ]
     },
     "execution_count": 20,
     "metadata": {},
     "output_type": "execute_result"
    }
   ],
   "source": [
    "spectrometer.current_location.labware.name"
   ]
  },
  {
   "cell_type": "code",
   "execution_count": 18,
   "id": "4b6a9420",
   "metadata": {},
   "outputs": [
    {
     "data": {
      "text/plain": [
       "science_jubilee.labware.Labware.Well"
      ]
     },
     "execution_count": 18,
     "metadata": {},
     "output_type": "execute_result"
    }
   ],
   "source": [
    "type(spectrometer.current_location.labware)"
   ]
  },
  {
   "cell_type": "markdown",
   "id": "6f5c6795",
   "metadata": {},
   "source": [
    "### **Park the spectrometer** ###"
   ]
  },
  {
   "cell_type": "code",
   "execution_count": 22,
   "id": "373d43cb",
   "metadata": {},
   "outputs": [],
   "source": [
    "axo.park_tool()"
   ]
  },
  {
   "cell_type": "markdown",
   "id": "9232e18f",
   "metadata": {},
   "source": [
    "## **Pick Up Vacuum Gripper** ##"
   ]
  },
  {
   "cell_type": "code",
   "execution_count": 24,
   "id": "728bfba7",
   "metadata": {},
   "outputs": [],
   "source": [
    "gripper = VacuumGripper(index = 4, \n",
    "                        name = 'Vacuum_Gripper', \n",
    "                        vacuum_pin = 0,\n",
    "                        limit_switch_pin = 2)\n",
    "axo.load_tool(gripper)"
   ]
  },
  {
   "cell_type": "code",
   "execution_count": null,
   "id": "d6d30822",
   "metadata": {},
   "outputs": [],
   "source": [
    "axo.pickup_tool(gripper)"
   ]
  },
  {
   "cell_type": "code",
   "execution_count": null,
   "id": "e4a8344f",
   "metadata": {},
   "outputs": [
    {
     "name": "stdout",
     "output_type": "stream",
     "text": [
      "(1, 0, 0)\n"
     ]
    }
   ],
   "source": [
    "gripper.grip(vacuum_location[4])\n",
    "gripper.drop(vacuum_location[0])"
   ]
  },
  {
   "cell_type": "code",
   "execution_count": null,
   "id": "d6d3d5b5",
   "metadata": {},
   "outputs": [],
   "source": [
    "gripper.pick_and_place(vacuum_location[4],\n",
    "                       vacuum_location[2])"
   ]
  },
  {
   "cell_type": "code",
   "execution_count": null,
   "id": "c5a3f53f",
   "metadata": {},
   "outputs": [],
   "source": [
    "gripper.pick_and_place(vacuum_location[4],\n",
    "                       vacuum_location[1])\n",
    "gripper.pick_and_place(vacuum_location[4],\n",
    "                       vacuum_location[3])"
   ]
  },
  {
   "cell_type": "code",
   "execution_count": 23,
   "id": "ba049432",
   "metadata": {},
   "outputs": [],
   "source": [
    "axo.park_tool()"
   ]
  },
  {
   "cell_type": "markdown",
   "id": "a97f30fb",
   "metadata": {},
   "source": [
    "## **Pipette Opentron OT2** ## "
   ]
  },
  {
   "cell_type": "code",
   "execution_count": 106,
   "id": "0449581a",
   "metadata": {},
   "outputs": [],
   "source": [
    "P1000 = Pipette.from_config(0, 'Pipette', 'P1000_config.json')\n",
    "axo.load_tool(P1000)\n",
    "P1000.add_tiprack(tiprack)\n",
    "P1000.trash = trash"
   ]
  },
  {
   "cell_type": "code",
   "execution_count": 135,
   "id": "f78e6c13",
   "metadata": {},
   "outputs": [],
   "source": [
    "axo.pickup_tool(P1000)"
   ]
  },
  {
   "cell_type": "markdown",
   "id": "2b774e94",
   "metadata": {},
   "source": [
    "#### **First, check if pipette is picking the correct position of tiprack A1** #### "
   ]
  },
  {
   "cell_type": "code",
   "execution_count": 121,
   "id": "2b7fc348",
   "metadata": {},
   "outputs": [],
   "source": [
    "P1000.pickup_tip(tiprack['A1'])"
   ]
  },
  {
   "cell_type": "code",
   "execution_count": 122,
   "id": "d065a240",
   "metadata": {},
   "outputs": [],
   "source": [
    "P1000.return_tip(tiprack['A1'])"
   ]
  },
  {
   "cell_type": "markdown",
   "id": "33d85cf0",
   "metadata": {},
   "source": [
    "#### **Manually find the coordinates of the center of three corners [[A1], [A12], [H12]] and set it to labware.manual_offset** ####"
   ]
  },
  {
   "cell_type": "markdown",
   "id": "5933df75",
   "metadata": {},
   "source": [
    "#### **Use 'labware.manual_offset_small_plate' for 1Xn, 1x1, nx1 well plates** "
   ]
  },
  {
   "cell_type": "markdown",
   "id": "54f9e710",
   "metadata": {},
   "source": [
    "#### **Test pickup and return tip** ####"
   ]
  },
  {
   "cell_type": "code",
   "execution_count": 22,
   "id": "70eff470",
   "metadata": {},
   "outputs": [],
   "source": [
    "for i in range(1, 4):\n",
    "    P1000.pickup_tip(tiprack[i])\n",
    "    P1000.return_tip(tiprack[i])\n",
    "    P1000.pickup_tip(tiprack[i+11])\n",
    "    P1000.return_tip(tiprack[i+11])"
   ]
  },
  {
   "cell_type": "markdown",
   "id": "58cf1c52",
   "metadata": {},
   "source": [
    "#### **Do the same positioning for labwares that we planning to dispense or aspirate** ####"
   ]
  },
  {
   "cell_type": "code",
   "execution_count": 123,
   "id": "cf3faba6",
   "metadata": {},
   "outputs": [],
   "source": [
    "P1000.pickup_tip(tiprack['A7'])"
   ]
  },
  {
   "cell_type": "code",
   "execution_count": 124,
   "id": "c120d82f",
   "metadata": {},
   "outputs": [],
   "source": [
    "P1000.aspirate(vol = 300, location = solvent[0].top(-35), s=4000)"
   ]
  },
  {
   "cell_type": "code",
   "execution_count": 125,
   "id": "c3276ee6",
   "metadata": {},
   "outputs": [],
   "source": [
    "P1000.dispense(vol = 10, location = samples_ot2[0].top(-30), s = 4000)"
   ]
  },
  {
   "cell_type": "code",
   "execution_count": 126,
   "id": "a5cb7fa4",
   "metadata": {},
   "outputs": [],
   "source": [
    "P1000.dispense(vol = 10, location = samples_ot2['A6'].top(-30), s = 4000)"
   ]
  },
  {
   "cell_type": "code",
   "execution_count": 127,
   "id": "7d8d1956",
   "metadata": {},
   "outputs": [],
   "source": [
    "P1000.dispense(vol = 10, location = samples_ot2['B6'].top(-30), s = 4000)"
   ]
  },
  {
   "cell_type": "code",
   "execution_count": null,
   "id": "14a94ff6",
   "metadata": {},
   "outputs": [],
   "source": [
    "P1000.dispense(vol = 10, location = samples_ot2[3].top(-30), s = 4000)"
   ]
  },
  {
   "cell_type": "code",
   "execution_count": 25,
   "id": "6fda0d1b",
   "metadata": {},
   "outputs": [],
   "source": [
    "for i in range(4, 12):\n",
    "    P1000.dispense(vol = 10, location = samples_ot2[i].top(-30), s = 4000)"
   ]
  },
  {
   "cell_type": "code",
   "execution_count": 26,
   "id": "038ed7ab",
   "metadata": {},
   "outputs": [],
   "source": [
    "P1000.return_tip(tiprack['A1'])"
   ]
  },
  {
   "cell_type": "markdown",
   "id": "bcc51834",
   "metadata": {},
   "source": [
    "### **Slot 0 Well plate testing** ###"
   ]
  },
  {
   "cell_type": "code",
   "execution_count": 128,
   "id": "5ac6053d",
   "metadata": {},
   "outputs": [],
   "source": [
    "P1000.dispense(vol = 10, location = samples2_ot2[0].top(-30), s = 4000)"
   ]
  },
  {
   "cell_type": "code",
   "execution_count": 129,
   "id": "79e089f4",
   "metadata": {},
   "outputs": [],
   "source": [
    "P1000.dispense(vol = 10, location = samples2_ot2['A6'].top(-30), s = 4000)"
   ]
  },
  {
   "cell_type": "code",
   "execution_count": 130,
   "id": "e119e149",
   "metadata": {},
   "outputs": [],
   "source": [
    "P1000.dispense(vol = 10, location = samples2_ot2['B6'].top(-30), s = 4000)"
   ]
  },
  {
   "cell_type": "code",
   "execution_count": 132,
   "id": "402c040b",
   "metadata": {},
   "outputs": [],
   "source": [
    "P1000.mix(300, 3)"
   ]
  },
  {
   "cell_type": "code",
   "execution_count": null,
   "id": "53ee621a",
   "metadata": {},
   "outputs": [],
   "source": [
    "for i in range(12):\n",
    "    P1000.dispense(vol = 10, location = samples2_ot2[i].top(-40), s = 4000)\n",
    "    P1000.mix(300, 3)"
   ]
  },
  {
   "cell_type": "code",
   "execution_count": 133,
   "id": "f6c0c94e",
   "metadata": {},
   "outputs": [],
   "source": [
    "P1000.drop_tip(trash)"
   ]
  },
  {
   "cell_type": "code",
   "execution_count": 136,
   "id": "e64e8c1a",
   "metadata": {},
   "outputs": [],
   "source": [
    "axo.park_tool()"
   ]
  }
 ],
 "metadata": {
  "kernelspec": {
   "display_name": "axo",
   "language": "python",
   "name": "python3"
  },
  "language_info": {
   "codemirror_mode": {
    "name": "ipython",
    "version": 3
   },
   "file_extension": ".py",
   "mimetype": "text/x-python",
   "name": "python",
   "nbconvert_exporter": "python",
   "pygments_lexer": "ipython3",
   "version": "3.13.4"
  }
 },
 "nbformat": 4,
 "nbformat_minor": 5
}
