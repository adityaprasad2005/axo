{
 "cells": [
  {
   "cell_type": "code",
   "execution_count": 1,
   "id": "9a92585a",
   "metadata": {},
   "outputs": [],
   "source": [
    "# Importing libraries\n",
    "\n",
    "import numpy as np\n",
    "import time \n",
    "from sklearn.linear_model import LinearRegression\n",
    "import matplotlib.pyplot as plt\n",
    "import pandas as pd\n",
    "\n",
    "\n",
    "from science_jubilee.Machine import Machine\n",
    "from science_jubilee.tools.Tool import Tool\n",
    "from science_jubilee.decks.Deck import Deck\n",
    "from science_jubilee.labware.Labware import Labware, Location, Well\n",
    "from science_jubilee.tools.Pipette import Pipette\n",
    "from science_jubilee.tools.Double_Syringe import DoubleSyringe\n",
    "from science_jubilee.tools.Vacuum_Gripper import VacuumGripper\n",
    "from science_jubilee.tools.Oceandirect_axo import Spectrometer"
   ]
  },
  {
   "cell_type": "code",
   "execution_count": null,
   "id": "d6515726",
   "metadata": {},
   "outputs": [
    {
     "name": "stdout",
     "output_type": "stream",
     "text": [
      "Manual offset applied to opentrons_96_tiprack_1000ul\n",
      "Manual offset saved\n",
      "Manual offset applied to uwsunlab_12_wellplate_4000ul\n",
      "Manual offset saved\n",
      "Manual offset applied to uwsunlab_12_wellplate_4000ul\n",
      "Manual offset saved\n",
      "Manual offset applied (1×1 plate),  x_adjust=0.0, y_adjust=0.0\n",
      "Manual offset saved.\n",
      "Manual offset applied to uwsunlab_12_wellplate_4000ul\n",
      "Manual offset saved\n",
      "Manual offset applied to uwsunlab_12_wellplate_4000ul\n",
      "Manual offset saved\n",
      "Manual offset applied (1×2 plate),  x_adjust=0.0, y_adjust=0.0\n",
      "Manual offset saved.\n",
      "Manual offset applied to uwsunlab_12_wellplate_4000ul\n",
      "Manual offset saved\n",
      "Manual offset applied to uwsunlab_12_wellplate_4000ul\n",
      "Manual offset saved\n"
     ]
    }
   ],
   "source": [
    "# Manual Offsetting \n",
    "\n",
    "deck = Deck(\"lab_automation_deck\") # We are not using the deck, so operate any deck.json \n",
    "\n",
    "# -------------Position JSON file for Pipette ---------------------#\n",
    "tiprack = deck.load_labware(labware_filename = 'opentrons_96_tiprack_1000ul_axo.json', slot = 5)   # Load an opentrons 20uL\n",
    "tiprack.manual_offset2([[274.1, 219.8],[173.1, 220.0],[173.1, 282.0]], save = True)   # Save through list of list. List of coordinates should be A1 A12 H12 subsequently. \n",
    "samples_ot2 = deck.load_labware(\"uwsunlab_12_wellplate_4000ul_pipette_1.json\", slot = 2)\n",
    "samples_ot2.manual_offset2([[131.3, 135.5], [36.5, 135.8], [36.5, 176.8]], save = True)\n",
    "samples2_ot2 = deck.load_labware(\"uwsunlab_12_wellplate_4000ul_pipette_2.json\", slot = 0)\n",
    "samples2_ot2.manual_offset2([[129.8, 40], [35.9, 38.8], [35.9, 79.8]], save = True)\n",
    "solvent = deck.load_labware(\"uwsunlab_1_reservoir_60000ul.json\", slot = 3)\n",
    "solvent.manual_offset_small_plate([[225.2, 155.8]], save = True)\n",
    "    \n",
    "# -------------Position JSON file for Dual Syringe ---------------#\n",
    "samples_sy = deck.load_labware('uwsunlab_12_wellplate_4000ul_1.json', slot = 2)\n",
    "samples_sy.manual_offset2([[132.7, 132.6],[38.6, 132.6], [38.6, 174.2]], save = True)\n",
    "samples2_sy = deck.load_labware('uwsunlab_12_wellplate_4000ul_2.json', slot = 0)\n",
    "samples2_sy.manual_offset2([[132.2, 36.3], [38.2, 36.3], [38.2, 77.5]], save = True)\n",
    "precursors = deck.load_labware('uwsunlab_2_wellplate_60000ul.json', slot = 1)\n",
    "precursors.manual_offset_small_plate([[245.0, 60.0], [197.0, 60.0]], save = True)\n",
    "# -----------Position JSON file for Spectrometer----------------# \n",
    "samples_spec = deck.load_labware('uwsunlab_12_wellplate_4000ul_spec_1.json', slot = 2)\n",
    "samples_spec.manual_offset2([[128.3, 132.8],[34.0, 132.8], [34.0, 173.8]], save = True)\n",
    "samples2_spec = deck.load_labware('uwsunlab_12_wellplate_4000ul_spec_2.json', slot = 0)\n",
    "samples2_spec.manual_offset2([[127.3, 35.6], [32.9, 35.6], [33.5, 77.4]], save = True)\n",
    "\n",
    " \n",
    "\n",
    "# ----------Position JSON file for Vacuum Gripper---------------#"
   ]
  },
  {
   "cell_type": "code",
   "execution_count": null,
   "id": "eeafe50a",
   "metadata": {},
   "outputs": [],
   "source": [
    "# Intialising and homing the Machine \n",
    "\n",
    "axo = Machine(address = '192.168.1.2')"
   ]
  },
  {
   "cell_type": "code",
   "execution_count": null,
   "id": "39e25b6b",
   "metadata": {},
   "outputs": [],
   "source": [
    "axo.home_all()\n",
    "axo.move_to(z=180) # Safest Z location"
   ]
  },
  {
   "cell_type": "code",
   "execution_count": 5,
   "id": "859f406f",
   "metadata": {},
   "outputs": [
    {
     "name": "stdout",
     "output_type": "stream",
     "text": [
      "Manual offset applied to opentrons_96_tiprack_1000ul\n",
      "Manual offset applied to uwsunlab_12_wellplate_4000ul\n",
      "Manual offset applied to uwsunlab_12_wellplate_4000ul\n",
      "Manual offset applied (1×1 plate),  x_adjust=0.0, y_adjust=0.0\n",
      "Manual offset applied to uwsunlab_12_wellplate_4000ul\n",
      "Manual offset applied to uwsunlab_12_wellplate_4000ul\n",
      "Manual offset applied (1×2 plate),  x_adjust=0.0, y_adjust=0.0\n",
      "Manual offset applied to uwsunlab_12_wellplate_4000ul\n",
      "Manual offset applied to uwsunlab_12_wellplate_4000ul\n"
     ]
    }
   ],
   "source": [
    "# Loading the labwares\n",
    "\n",
    "deck = axo.load_deck(\"lab_automation_deck\")\n",
    "\n",
    "## ---------------------OT2 1000ul Pipette ----------------------------##\n",
    "tiprack = axo.load_labware(\"opentrons_96_tiprack_1000ul_axo.json\", 5)\n",
    "tiprack.load_manualOffset()\n",
    "samples_ot2 = axo.load_labware('uwsunlab_12_wellplate_4000ul_pipette_1.json', 2)\n",
    "samples_ot2.load_manualOffset()\n",
    "samples2_ot2 = axo.load_labware('uwsunlab_12_wellplate_4000ul_pipette_2.json', 0)\n",
    "samples2_ot2.load_manualOffset()\n",
    "solvent = axo.load_labware('uwsunlab_1_reservoir_60000ul.json', 3)\n",
    "solvent.load_manualOffset()\n",
    "trash = (-0.9, 55.8, 99)\n",
    "## -------------------------------------------------------------------##\n",
    "#pipette = Pipette(0, \"Pipette\", brand = \"opentron\", model = \"config\", max_volume= 20, min_volume= 0, zero_position = (0,0,0),\\\n",
    "#    blowout_position=None, drop_tip_position = None, mm_to_ul = None)# model = \"config\")\n",
    "\n",
    "## ---------------------Dual Syringe Pump ----------------------------##\n",
    "samples_sy = axo.load_labware('uwsunlab_12_wellplate_4000ul_1.json', 2)\n",
    "samples_sy.load_manualOffset()\n",
    "samples2_sy = axo.load_labware('uwsunlab_12_wellplate_4000ul_2.json', 0)\n",
    "samples2_sy.load_manualOffset()\n",
    "precursors = axo.load_labware('uwsunlab_2_wellplate_60000ul.json', 1)\n",
    "precursors.load_manualOffset()\n",
    "## ------------------------------------------------------------------##\n",
    "\n",
    "## --------------------------Spectrometer -------------------------------##\n",
    "samples_spec = axo.load_labware('uwsunlab_12_wellplate_4000ul_spec_1.json', 2)\n",
    "samples_spec.load_manualOffset()\n",
    "samples2_spec = axo.load_labware('uwsunlab_12_wellplate_4000ul_spec_2.json', 0)\n",
    "samples2_spec.load_manualOffset()\n",
    "## ----------------------------------------------------------------------##\n",
    "\n",
    "## ------------------------Vacuum Gripper --------------------------------##\n",
    "vacuum_location = [(84, 51, 0),  # Slot 0 (12 Well Plate)\n",
    "                   (225, 57, 0), # Slot 1 (2 Precursor Container)\n",
    "                   (84, 147, 0), # Slot 2 (12 Well Plate)\n",
    "                   (225, 149, 0), # Slot 3 (1 Solvent Container)\n",
    "                   (79, 244, 0)] # Slot 4 (Lid Containter)\n",
    "\n"
   ]
  },
  {
   "cell_type": "code",
   "execution_count": 5,
   "id": "bf515c16",
   "metadata": {},
   "outputs": [
    {
     "ename": "RuntimeError",
     "evalue": "No Ocean Insight Spectrometers Detected",
     "output_type": "error",
     "traceback": [
      "\u001b[31m---------------------------------------------------------------------------\u001b[39m",
      "\u001b[31mRuntimeError\u001b[39m                              Traceback (most recent call last)",
      "\u001b[36mCell\u001b[39m\u001b[36m \u001b[39m\u001b[32mIn[5]\u001b[39m\u001b[32m, line 3\u001b[39m\n\u001b[32m      1\u001b[39m \u001b[38;5;66;03m# Load the spectrometer\u001b[39;00m\n\u001b[32m----> \u001b[39m\u001b[32m3\u001b[39m spectrometer = \u001b[43mSpectrometer\u001b[49m\u001b[43m(\u001b[49m\u001b[43mindex\u001b[49m\u001b[43m \u001b[49m\u001b[43m=\u001b[49m\u001b[43m \u001b[49m\u001b[32;43m3\u001b[39;49m\u001b[43m,\u001b[49m\u001b[43m \u001b[49m\n\u001b[32m      4\u001b[39m \u001b[43m                            \u001b[49m\u001b[43mname\u001b[49m\u001b[43m \u001b[49m\u001b[43m=\u001b[49m\u001b[43m \u001b[49m\u001b[33;43m'\u001b[39;49m\u001b[33;43mSpectrometer\u001b[39;49m\u001b[33;43m'\u001b[39;49m\u001b[43m,\u001b[49m\u001b[43m \u001b[49m\n\u001b[32m      5\u001b[39m \u001b[43m                            \u001b[49m\u001b[43mbase_dir\u001b[49m\u001b[43m=\u001b[49m\u001b[33;43mr\u001b[39;49m\u001b[33;43m\"\u001b[39;49m\u001b[33;43mC:\u001b[39;49m\u001b[33;43m\\\u001b[39;49m\u001b[33;43mUsers\u001b[39;49m\u001b[33;43m\\\u001b[39;49m\u001b[33;43mADITI\u001b[39;49m\u001b[33;43m\\\u001b[39;49m\u001b[33;43mDownloads\u001b[39;49m\u001b[33;43m\\\u001b[39;49m\u001b[33;43mAditya\u001b[39;49m\u001b[33;43m\\\u001b[39;49m\u001b[33;43mAxo_Jubilee\u001b[39;49m\u001b[33;43m\\\u001b[39;49m\u001b[33;43mscience-jubilee\u001b[39;49m\u001b[33;43m\\\u001b[39;49m\u001b[33;43maxo\u001b[39;49m\u001b[33;43m\\\u001b[39;49m\u001b[33;43mspectrum_data\u001b[39;49m\u001b[33;43m\"\u001b[39;49m\u001b[43m,\u001b[49m\n\u001b[32m      6\u001b[39m \u001b[43m                            \u001b[49m\u001b[43mplate_id\u001b[49m\u001b[43m \u001b[49m\u001b[43m=\u001b[49m\u001b[43m \u001b[49m\u001b[33;43m'\u001b[39;49m\u001b[33;43mtesting_4\u001b[39;49m\u001b[33;43m'\u001b[39;49m\u001b[43m,\u001b[49m\n\u001b[32m      7\u001b[39m \u001b[43m                            \u001b[49m\u001b[43mref_dark\u001b[49m\u001b[43m \u001b[49m\u001b[43m=\u001b[49m\u001b[43m \u001b[49m\u001b[33;43m'\u001b[39;49m\u001b[33;43mdark_20250528_144107.npy\u001b[39;49m\u001b[33;43m'\u001b[39;49m\u001b[43m,\u001b[49m\n\u001b[32m      8\u001b[39m \u001b[43m                            \u001b[49m\u001b[43mref_white\u001b[49m\u001b[43m \u001b[49m\u001b[43m=\u001b[49m\u001b[43m \u001b[49m\u001b[33;43m'\u001b[39;49m\u001b[33;43mwhite_20250528_144214.npy\u001b[39;49m\u001b[33;43m'\u001b[39;49m\u001b[43m)\u001b[49m\n\u001b[32m      9\u001b[39m \u001b[38;5;66;03m# axo.load_tool(spectrometer)\u001b[39;00m\n",
      "\u001b[36mFile \u001b[39m\u001b[32m~\\Downloads\\Aditya\\Axo_Jubilee\\science-jubilee\\src\\science_jubilee\\tools\\Oceandirect_axo.py:76\u001b[39m, in \u001b[36mSpectrometer.__init__\u001b[39m\u001b[34m(self, index, name, base_dir, plate_id, ref_dark, ref_white)\u001b[39m\n\u001b[32m     74\u001b[39m \u001b[38;5;28mself\u001b[39m.index = index\n\u001b[32m     75\u001b[39m \u001b[38;5;28mself\u001b[39m.ocean = OceanDirectAPI()\n\u001b[32m---> \u001b[39m\u001b[32m76\u001b[39m \u001b[38;5;28mself\u001b[39m.spectrometer, \u001b[38;5;28mself\u001b[39m.device_id = \u001b[38;5;28;43mself\u001b[39;49m\u001b[43m.\u001b[49m\u001b[43mopen_spectrometer\u001b[49m\u001b[43m(\u001b[49m\u001b[43m)\u001b[49m\n\u001b[32m     78\u001b[39m \u001b[38;5;66;03m# ---------------------Storage Hierarchy --------------------#\u001b[39;00m\n\u001b[32m     79\u001b[39m \u001b[38;5;28mself\u001b[39m.base_dir : pathlib.Path = (\n\u001b[32m     80\u001b[39m     pathlib.Path(base_dir).expanduser().resolve()\n\u001b[32m     81\u001b[39m     \u001b[38;5;28;01mif\u001b[39;00m base_dir \u001b[38;5;129;01mis\u001b[39;00m \u001b[38;5;129;01mnot\u001b[39;00m \u001b[38;5;28;01mNone\u001b[39;00m\n\u001b[32m     82\u001b[39m     \u001b[38;5;28;01melse\u001b[39;00m \u001b[38;5;28mself\u001b[39m.DEFAULT_DIR.resolve()\n\u001b[32m     83\u001b[39m )\n",
      "\u001b[36mFile \u001b[39m\u001b[32m~\\Downloads\\Aditya\\Axo_Jubilee\\science-jubilee\\src\\science_jubilee\\tools\\Oceandirect_axo.py:126\u001b[39m, in \u001b[36mSpectrometer.open_spectrometer\u001b[39m\u001b[34m(self)\u001b[39m\n\u001b[32m    125\u001b[39m \u001b[38;5;28;01mdef\u001b[39;00m\u001b[38;5;250m \u001b[39m\u001b[34mopen_spectrometer\u001b[39m(\u001b[38;5;28mself\u001b[39m):\n\u001b[32m--> \u001b[39m\u001b[32m126\u001b[39m     device_ids = \u001b[38;5;28;43mself\u001b[39;49m\u001b[43m.\u001b[49m\u001b[43mfind_spectrometers\u001b[49m\u001b[43m(\u001b[49m\u001b[43m)\u001b[49m\n\u001b[32m    127\u001b[39m     \u001b[38;5;28mself\u001b[39m.device_id = device_ids[\u001b[32m0\u001b[39m]\n\u001b[32m    128\u001b[39m     \u001b[38;5;28mself\u001b[39m.spectrometer = \u001b[38;5;28mself\u001b[39m.ocean.open_device(\u001b[38;5;28mself\u001b[39m.device_id)\n",
      "\u001b[36mFile \u001b[39m\u001b[32m~\\Downloads\\Aditya\\Axo_Jubilee\\science-jubilee\\src\\science_jubilee\\tools\\Oceandirect_axo.py:121\u001b[39m, in \u001b[36mSpectrometer.find_spectrometers\u001b[39m\u001b[34m(self)\u001b[39m\n\u001b[32m    119\u001b[39m count = \u001b[38;5;28mself\u001b[39m.ocean.find_devices()\n\u001b[32m    120\u001b[39m \u001b[38;5;28;01mif\u001b[39;00m count == \u001b[32m0\u001b[39m:\n\u001b[32m--> \u001b[39m\u001b[32m121\u001b[39m     \u001b[38;5;28;01mraise\u001b[39;00m \u001b[38;5;167;01mRuntimeError\u001b[39;00m(\u001b[33m\"\u001b[39m\u001b[33mNo Ocean Insight Spectrometers Detected\u001b[39m\u001b[33m\"\u001b[39m)\n\u001b[32m    123\u001b[39m \u001b[38;5;28;01mreturn\u001b[39;00m \u001b[38;5;28mself\u001b[39m.ocean.get_device_ids()\n",
      "\u001b[31mRuntimeError\u001b[39m: No Ocean Insight Spectrometers Detected"
     ]
    }
   ],
   "source": [
    "# Load the spectrometer\n",
    "\n",
    "spectrometer = Spectrometer(index = 3, \n",
    "                            name = 'Spectrometer', \n",
    "                            base_dir=r\"C:\\Users\\ADITI\\Downloads\\Aditya\\Axo_Jubilee\\science-jubilee\\axo\\spectrum_data\",\n",
    "                            plate_id = 'testing_4',\n",
    "                            ref_dark = 'dark_20250528_144107.npy',\n",
    "                            ref_white = 'white_20250528_144214.npy')\n",
    "# axo.load_tool(spectrometer)"
   ]
  },
  {
   "cell_type": "code",
   "execution_count": 63,
   "id": "4cafc954",
   "metadata": {},
   "outputs": [],
   "source": [
    "axo.pickup_tool(spectrometer)"
   ]
  },
  {
   "cell_type": "code",
   "execution_count": 64,
   "id": "e50202b2",
   "metadata": {},
   "outputs": [],
   "source": [
    "spectrometer.configure_device()"
   ]
  },
  {
   "cell_type": "code",
   "execution_count": 65,
   "id": "65af38ca",
   "metadata": {},
   "outputs": [
    {
     "data": {
      "text/plain": [
       "'dark_20250625_160225'"
      ]
     },
     "execution_count": 65,
     "metadata": {},
     "output_type": "execute_result"
    }
   ],
   "source": [
    "spectrometer.set_dark() "
   ]
  },
  {
   "cell_type": "code",
   "execution_count": 66,
   "id": "a28158e0",
   "metadata": {},
   "outputs": [
    {
     "data": {
      "text/plain": [
       "'white_20250625_160230'"
      ]
     },
     "execution_count": 66,
     "metadata": {},
     "output_type": "execute_result"
    }
   ],
   "source": [
    "spectrometer.set_white()"
   ]
  },
  {
   "cell_type": "code",
   "execution_count": 60,
   "id": "cb6bd94d",
   "metadata": {},
   "outputs": [
    {
     "data": {
      "text/plain": [
       "(array([ 194.02957153,  194.57849831,  195.1273039 , ..., 1102.96248167,\n",
       "        1103.3101147 , 1103.657674  ], shape=(2068,)),\n",
       " array([-128.12509754, -157.23825152, -136.35669405, ..., -211.85013739,\n",
       "        -238.55423364, -238.21959584], shape=(2068,)))"
      ]
     },
     "execution_count": 60,
     "metadata": {},
     "output_type": "execute_result"
    }
   ],
   "source": [
    "spectrometer.collect_spectrum(samples_spec[0].top(-5), 15, save= True)"
   ]
  },
  {
   "cell_type": "code",
   "execution_count": null,
   "id": "17b73086",
   "metadata": {},
   "outputs": [],
   "source": [
    "# Position Probe and take readings one by one. \n",
    "# Also plot the Absorbance spectrum side by side. \n",
    "\n",
    "for i in range(6):\n",
    "    # spectrometer.position_probe(samples_spec[i].top(-5))\n",
    "    spectrometer.collect_spectrum(samples_spec[i].top(-5), elapsed_min=15, save= True)\n",
    "\n",
    "    # Single spectrum plot\n",
    "    wavelengths, absorbance = spectrometer.plot_spectrum(samples_spec[0], elasped_min=15, show_plot=True, save_plot=True)    "
   ]
  },
  {
   "cell_type": "code",
   "execution_count": 61,
   "id": "dd87ecfa",
   "metadata": {},
   "outputs": [],
   "source": [
    "axo.park_tool()"
   ]
  },
  {
   "cell_type": "code",
   "execution_count": null,
   "id": "c6d153bd",
   "metadata": {},
   "outputs": [
    {
     "ename": "NameError",
     "evalue": "name 'spectrometer' is not defined",
     "output_type": "error",
     "traceback": [
      "\u001b[31m---------------------------------------------------------------------------\u001b[39m",
      "\u001b[31mNameError\u001b[39m                                 Traceback (most recent call last)",
      "\u001b[36mCell\u001b[39m\u001b[36m \u001b[39m\u001b[32mIn[9]\u001b[39m\u001b[32m, line 18\u001b[39m\n\u001b[32m     15\u001b[39m sample_vals = sample_df.iloc[:, \u001b[32m1\u001b[39m].values\n\u001b[32m     17\u001b[39m \u001b[38;5;66;03m# --- Compute Absorbance ---\u001b[39;00m\n\u001b[32m---> \u001b[39m\u001b[32m18\u001b[39m absorbance = \u001b[43mspectrometer\u001b[49m.compute_absorbance(sample_vals, dark_vals, white_vals)\n\u001b[32m     20\u001b[39m \u001b[38;5;66;03m# --- Plot ---\u001b[39;00m\n\u001b[32m     21\u001b[39m plt.figure(figsize=(\u001b[32m10\u001b[39m, \u001b[32m6\u001b[39m))\n",
      "\u001b[31mNameError\u001b[39m: name 'spectrometer' is not defined"
     ]
    }
   ],
   "source": [
    "# Data Processing and Visualisation \n",
    "\n",
    "\n",
    "# # Paths to your files\n",
    "# csv_path = r\"C:\\Users\\ADITI\\Downloads\\Aditya\\Axo_Jubilee\\science-jubilee\\axo\\spectrum_data\\testing_3\\A6.csv\"\n",
    "# dark_path = r\"C:\\Users\\ADITI\\Downloads\\Aditya\\Axo_Jubilee\\science-jubilee\\axo\\spectrum_data\\refs\\dark_20250528_144107.npy\"\n",
    "# white_path = r\"C:\\Users\\ADITI\\Downloads\\Aditya\\Axo_Jubilee\\science-jubilee\\axo\\spectrum_data\\refs\\white_20250528_144214.npy\"\n",
    "\n",
    "# # Load dark and white reference values\n",
    "# dark_vals = np.load(dark_path)\n",
    "# white_vals = np.load(white_path)\n",
    "\n",
    "# # Read the sample CSV, skipping metadata lines\n",
    "# sample_df = pd.read_csv(csv_path, comment='#')\n",
    "\n",
    "# # Extract wavelength and intensity\n",
    "# wavelengths = sample_df.iloc[:, 0].values\n",
    "# sample_vals = sample_df.iloc[:, 1].values\n",
    "\n",
    "# # --- Compute Absorbance ---\n",
    "# absorbance = spectrometer.compute_absorbance(sample_vals, dark_vals, white_vals)\n",
    "\n",
    "# # --- Plot ---\n",
    "# plt.figure(figsize=(10, 6))\n",
    "# plt.plot(wavelengths, absorbance, color='purple', label='Absorbance')\n",
    "# plt.xlabel(\"Wavelength (nm)\")\n",
    "# plt.ylabel(\"Absorbance (AU)\")\n",
    "# plt.title(\"Wavelength vs Absorbance\")\n",
    "# plt.grid(True)\n",
    "# plt.legend()\n",
    "# plt.tight_layout()\n",
    "# plt.show()\n"
   ]
  }
 ],
 "metadata": {
  "kernelspec": {
   "display_name": "axo",
   "language": "python",
   "name": "python3"
  },
  "language_info": {
   "codemirror_mode": {
    "name": "ipython",
    "version": 3
   },
   "file_extension": ".py",
   "mimetype": "text/x-python",
   "name": "python",
   "nbconvert_exporter": "python",
   "pygments_lexer": "ipython3",
   "version": "3.13.4"
  }
 },
 "nbformat": 4,
 "nbformat_minor": 5
}
