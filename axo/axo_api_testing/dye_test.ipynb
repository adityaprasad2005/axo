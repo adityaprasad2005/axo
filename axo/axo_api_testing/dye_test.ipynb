{
 "cells": [
  {
   "cell_type": "markdown",
   "id": "71632e3b",
   "metadata": {},
   "source": [
    "<h1> Dye Test </h1>"
   ]
  },
  {
   "cell_type": "markdown",
   "id": "189131df",
   "metadata": {},
   "source": [
    "In this test, we will be making a soln using two different dye sols. \n",
    "\n",
    "The is the procedure:\n",
    "0. Initialise machine \n",
    "1. Home Jubilee\n",
    "2. Load tools\n",
    "3. Fill Dual syringe with dye\n",
    "4. Place lid on precursors\n",
    "5. Fill vial with solvent \n",
    "6. Fill vial with precursors\n",
    "7. Mix the vial\n",
    "8. Record vial spectrometer data 2 times"
   ]
  },
  {
   "cell_type": "code",
   "execution_count": 1,
   "id": "de7731ae",
   "metadata": {},
   "outputs": [],
   "source": [
    "# Import libs\n",
    "\n",
    "# Importing libraries\n",
    "import numpy as np\n",
    "import time \n",
    "import matplotlib.pyplot as plt\n",
    "import pandas as pd\n",
    "import sys\n",
    "import os\n",
    "\n",
    "# Add the src folder to the Python path\n",
    "sys.path.append(os.path.abspath(os.path.join(os.getcwd(), '..', '..', 'src')))\n",
    "\n",
    "\n",
    "from science_jubilee.Machine import Machine\n",
    "from science_jubilee.tools.Tool import Tool\n",
    "from science_jubilee.decks.Deck import Deck\n",
    "from science_jubilee.labware.Labware import Labware, Location, Well\n",
    "# from science_jubilee.tools.Pipette import Pipette\n",
    "from science_jubilee.tools.Double_Syringe import DoubleSyringe\n",
    "from science_jubilee.tools.Syringe import Syringe\n",
    "from science_jubilee.tools.Vacuum_Gripper import VacuumGripper\n",
    "from science_jubilee.tools.Oceandirect_axo import Spectrometer"
   ]
  },
  {
   "cell_type": "code",
   "execution_count": 2,
   "id": "ad9280a1",
   "metadata": {},
   "outputs": [
    {
     "name": "stdout",
     "output_type": "stream",
     "text": [
      "Manual offset applied (1×2 plate),  x_adjust=0.0, y_adjust=0.0\n",
      "Manual offset saved.\n",
      "Manual offset applied to \n",
      "Manual offset saved\n",
      "Manual offset applied to \n",
      "Manual offset saved\n",
      "Manual offset applied to \n",
      "Manual offset saved\n",
      "Manual offset applied to \n",
      "Manual offset saved\n",
      "Manual offset applied (1×2 plate),  x_adjust=0.0, y_adjust=0.0\n",
      "Manual offset saved.\n",
      "Manual offset applied to \n",
      "Manual offset saved\n",
      "Manual offset applied to \n",
      "Manual offset saved\n"
     ]
    }
   ],
   "source": [
    "# Manual Offsetting \n",
    "\n",
    "deck = Deck(\"lab_automation_deck\") # We are not using the deck, so operate any deck.json \n",
    "\n",
    "solvents = deck.load_labware(\"uwsunlab_2_wellplate_60000ul_slot3.json\", slot = 3, has_lid_on_top= True, currentLiquidVolume= 60)\n",
    "solvents.manual_offset_small_plate([[245.0, 155.8], [197.0, 155.8]], save = True)\n",
    "\n",
    "# -------------Position JSON file for Single Syringe ---------------------#\n",
    "samples2_ssy = deck.load_labware(\"uwsunlab_10_wellplate_14000ul_ssy_1.json\", slot = 2, has_lid_on_top= False) \n",
    "samples2_ssy.manual_offset2([[132.0, 134.0], [38.0, 134.0], [38.0, 175.0]], save = True)\n",
    "samples5_ssy = deck.load_labware(\"uwsunlab_10_wellplate_14000ul_ssy_2.json\", slot = 5, has_lid_on_top= False)\n",
    "samples5_ssy.manual_offset2([[271.0, 231.0], [177.0, 231.0], [177.0, 273.0]], save = True)\n",
    "    \n",
    "# -------------Position JSON file for Dual Syringe ---------------#\n",
    "samples2_sy = deck.load_labware('uwsunlab_10_wellplate_14000ul_sy_1.json', slot = 2, has_lid_on_top= False)       #new config\n",
    "samples2_sy.manual_offset2([[130.7, 131.6],[37.7, 131.6], [37.7, 172.6]], save = True)\n",
    "samples5_sy = deck.load_labware('uwsunlab_10_wellplate_14000ul_sy_2.json', slot = 5, has_lid_on_top= False)     #new config\n",
    "samples5_sy.manual_offset2([[270.0, 228.0], [178.0, 228.0], [177.0, 270.0]], save = True)\n",
    "\n",
    "precursors = deck.load_labware('uwsunlab_2_wellplate_60000ul_slot1.json', slot = 1, has_lid_on_top= True, currentLiquidVolume= 60)\n",
    "precursors.manual_offset_small_plate([[245.0, 60.0], [197.0, 60.0]], save = True)\n",
    "\n",
    "# -----------Position JSON file for Spectrometer----------------# \n",
    "samples2_spec = deck.load_labware('uwsunlab_10_wellplate_14000ul_spec_1.json', slot = 2, has_lid_on_top= False)   #new config\n",
    "samples2_spec.manual_offset2([[130.6, 133.1],[35.7, 133.0], [35.6, 173.7]], save = True)\n",
    "samples5_spec = deck.load_labware('uwsunlab_10_wellplate_14000ul_spec_2.json', slot = 5, has_lid_on_top= False)   #new config\n",
    "samples5_spec.manual_offset2([[269.8, 229.3], [176.3, 230.0], [176.6, 271.2]], save = True)"
   ]
  },
  {
   "cell_type": "code",
   "execution_count": 3,
   "id": "4143668a",
   "metadata": {},
   "outputs": [],
   "source": [
    "# Step 0. Initialise machine \n",
    "# Intialising and homing the Machine \n",
    "# Switch on the button on the machine\n",
    "\n",
    "axo = Machine(address = '192.168.1.2')"
   ]
  },
  {
   "cell_type": "code",
   "execution_count": 4,
   "id": "960d0e10",
   "metadata": {},
   "outputs": [],
   "source": [
    "# Step 1. Home Jubilee \n",
    "\n",
    "# Caution : Please remove any labwares on slot0 and slot1 before homing. \n",
    "axo.home_all()\n",
    "axo.move_to(z=180) # Safest Z location"
   ]
  },
  {
   "cell_type": "code",
   "execution_count": null,
   "id": "28ed7149",
   "metadata": {},
   "outputs": [
    {
     "name": "stdout",
     "output_type": "stream",
     "text": [
      "Manual offset applied (1×2 plate),  x_adjust=0.0, y_adjust=0.0\n",
      "Manual offset applied to \n",
      "Manual offset applied to \n",
      "Manual offset applied to \n",
      "Manual offset applied to \n",
      "Manual offset applied (1×2 plate),  x_adjust=0.0, y_adjust=0.0\n",
      "Manual offset applied to \n",
      "Manual offset applied to \n"
     ]
    }
   ],
   "source": [
    "# Loading the labwares\n",
    "# Select 2 for everything\n",
    "\n",
    "deck = axo.load_deck(\"lab_automation_deck\")\n",
    "\n",
    "solvents = axo.load_labware('uwsunlab_2_wellplate_60000ul_slot3.json', slot= 3, has_lid_on_top= True, currentLiquidVolume= 60)\n",
    "solvents.load_manualOffset()\n",
    "trash = (-0.9, 55.8, 99)\n",
    "\n",
    "## ---------------------Single Syringe Pump ----------------------------##\n",
    "samples2_ssy = axo.load_labware('uwsunlab_10_wellplate_14000ul_ssy_1.json', slot= 2, has_lid_on_top= False)         #new config\n",
    "samples2_ssy.load_manualOffset()\n",
    "samples5_ssy = axo.load_labware('uwsunlab_10_wellplate_14000ul_ssy_2.json', slot= 5, has_lid_on_top= False)         #new config\n",
    "samples5_ssy.load_manualOffset()\n",
    "\n",
    "## ---------------------Dual Syringe Pump ----------------------------##\n",
    "samples2_sy = axo.load_labware('uwsunlab_10_wellplate_14000ul_sy_1.json', slot= 2, has_lid_on_top= False)         #new config\n",
    "samples2_sy.load_manualOffset()\n",
    "samples5_sy = axo.load_labware('uwsunlab_10_wellplate_14000ul_sy_2.json', slot= 5, has_lid_on_top= False)         #new config\n",
    "samples5_sy.load_manualOffset()\n",
    "\n",
    "precursors = axo.load_labware('uwsunlab_2_wellplate_60000ul_slot1.json', slot= 1, has_lid_on_top= True, currentLiquidVolume= 60)\n",
    "precursors.load_manualOffset()\n",
    "\n",
    "## --------------------------Spectrometer -------------------------------##\n",
    "samples2_spec = axo.load_labware('uwsunlab_10_wellplate_14000ul_spec_1.json', slot= 2, has_lid_on_top= False)  #new config\n",
    "samples2_spec.load_manualOffset()\n",
    "samples5_spec = axo.load_labware('uwsunlab_10_wellplate_14000ul_spec_2.json', slot= 5, has_lid_on_top= False)  #new config\n",
    "samples5_spec.load_manualOffset()\n",
    "\n",
    "## ------------------------Vacuum Gripper --------------------------------##\n",
    "vacuum_location = {0: {\"loc\": (84, 51, 0), \"labwares_list\": []},                                             # Slot 0\n",
    "                   1: {\"loc\": (225, 57, 0), \"labwares_list\": [precursors]},                                  # Slot 1 (2 Precursor Container)\n",
    "                   2: {\"loc\": (84, 147, 0), \"labwares_list\": [samples2_ssy, samples2_sy, samples2_spec]},    # Slot 2 (10 Well Plate)\n",
    "                   3: {\"loc\": (225, 149, 0), \"labwares_list\": [solvents]},                                   # Slot 3 (Solvent & Cleansing liquid Container)\n",
    "                   4: {\"loc\": (79, 244, 0), \"labwares_list\": []},                                            # Slot 4 (Lid Containter)\n",
    "                   5: {\"loc\": (221, 244, 0), \"labwares_list\": [samples5_ssy, samples5_sy, samples5_spec]}  }  # Slot 5 (10 Well Plate)                        "
   ]
  },
  {
   "cell_type": "code",
   "execution_count": 6,
   "id": "50e4c4f3",
   "metadata": {},
   "outputs": [
    {
     "data": {
      "text/plain": [
       "{'X': '100.000',\n",
       " 'Y': '60.000',\n",
       " 'Z': '180.000',\n",
       " 'U': '0.000',\n",
       " 'E': '0.000',\n",
       " 'E0': '-0.0',\n",
       " 'E1': '-0.0',\n",
       " 'E2': '-0.0'}"
      ]
     },
     "execution_count": 6,
     "metadata": {},
     "output_type": "execute_result"
    }
   ],
   "source": [
    "axo.get_position()"
   ]
  },
  {
   "cell_type": "code",
   "execution_count": 7,
   "id": "51006097",
   "metadata": {},
   "outputs": [],
   "source": [
    "# Step 2. Load tools\n",
    "\n",
    "# Loading the Dual Syringe\n",
    "\n",
    "single_syringe = Syringe(index = 0, \n",
    "                        name = 'single_syringe', \n",
    "                        config = 'single_syringe')\n",
    "# You always need to load your tool to the machine\n",
    "axo.load_tool(single_syringe)\n",
    "\n",
    "\n",
    "# Loading the Dual Syringe\n",
    "\n",
    "dual_syringe = DoubleSyringe(index = 2, \n",
    "                        name = 'Dual_Syringe', \n",
    "                        config = '10cc_syringe')\n",
    "# You always need to load your tool to the machine\n",
    "axo.load_tool(dual_syringe)\n",
    "\n",
    "\n",
    "\n",
    "# Load the Vacumm Gripper\n",
    "gripper = VacuumGripper(index = 4, \n",
    "                        name = 'Vacuum_Gripper', \n",
    "                        vacuum_pin = 0,\n",
    "                        limit_switch_pin = 2)\n",
    "axo.load_tool(gripper)"
   ]
  },
  {
   "cell_type": "code",
   "execution_count": 8,
   "id": "5f712e69",
   "metadata": {},
   "outputs": [
    {
     "name": "stdout",
     "output_type": "stream",
     "text": [
      "Opened Spectrometer 2\n"
     ]
    }
   ],
   "source": [
    "# Load the spectrometer\n",
    "\n",
    "spectrometer = Spectrometer(index = 3, \n",
    "                            name = 'Spectrometer', \n",
    "                            base_dir=r\"C:\\Axo\\science-jubilee\\axo\\spectrum_data\",\n",
    "                            experiment_name= 'ZIF-67 Synthesis', \n",
    "                            operator_name= 'Aditya_and_Hardik',\n",
    "                            target_compound='ZIF-67', \n",
    "                            # project_id = 'MOF_Phase1', \n",
    "                            experiment_notes= 'Synthesis of a single vial of MOF - First run', \n",
    "                            solvent = 'methanol', \n",
    "                            temperature_c= 25)\n",
    "                            # ref_dark = 'dark_20250708_165121.npy',\n",
    "                            # ref_white = 'white_20250708_165110.npy')\n",
    "axo.load_tool(spectrometer)"
   ]
  },
  {
   "cell_type": "code",
   "execution_count": null,
   "id": "f75e684b",
   "metadata": {},
   "outputs": [
    {
     "name": "stdout",
     "output_type": "stream",
     "text": [
      "Picked Up Dual Syringe\n",
      "Dual Syringe Drive 0 reset and position: -0.0\n",
      "Dual Syringe Drive 1 reset and position: 15.1\n",
      "Parked Dual Syringe\n"
     ]
    }
   ],
   "source": [
    "# Step 3. Fill Dual syringe with dye\n",
    "axo.pickup_tool(dual_syringe)\n",
    "print(\"Picked Up Dual Syringe\")\n",
    "\n",
    "drive0 = dual_syringe.e0_drive\n",
    "current_pos0 = float(dual_syringe._machine.get_position()[drive0])\n",
    "headroom_mm0 = current_pos0 - dual_syringe.min_range\n",
    "headroom_ml0 = headroom_mm0 / dual_syringe.mm_to_ml\n",
    "dual_syringe.dispense_e0(vol= headroom_ml0, sample_loc_e=precursors[1], refill_loc_e=precursors[0], s=500)\n",
    "current_pos = float(dual_syringe._machine.get_position()[drive0])\n",
    "print(\"Dual Syringe Drive 0 reset and position:\", current_pos)\n",
    "\n",
    "drive1 = dual_syringe.e1_drive\n",
    "current_pos1 = float(dual_syringe._machine.get_position()[drive1])\n",
    "headroom_mm1 = current_pos1 - dual_syringe.min_range\n",
    "headroom_ml1 = headroom_mm1 / dual_syringe.mm_to_ml\n",
    "dual_syringe.dispense_e1(vol= headroom_ml1, sample_loc_v=precursors[0], refill_loc_v=precursors[0], s=500)\n",
    "current_pos = float(dual_syringe._machine.get_position()[drive1])\n",
    "print(\"Dual Syringe Drive 1 reset and position:\", current_pos)\n",
    "\n",
    "dual_syringe.refill(drive = dual_syringe.e0_drive, refill_loc = precursors[0].top(-54), s = 100)\n",
    "dual_syringe.refill(drive = dual_syringe.e1_drive, refill_loc = precursors[0].top(-54), s = 100)\n",
    "print(\"Dual Syringe Refilled\")\n",
    "\n",
    "axo.park_tool()\n",
    "print(\"Parked Dual Syringe\")"
   ]
  },
  {
   "cell_type": "code",
   "execution_count": null,
   "id": "cddb755d",
   "metadata": {},
   "outputs": [
    {
     "name": "stdout",
     "output_type": "stream",
     "text": [
      "Picked Up Vacuum Gripper\n",
      "Placed the plate\n"
     ]
    }
   ],
   "source": [
    "# Step 4: Place lid on precursors\n",
    "axo.pickup_tool(gripper)\n",
    "print(\"Picked Up Vacuum Gripper\")\n",
    "\n",
    "gripper.pick_and_place(vacuum_location[3],\n",
    "                       vacuum_location[4], 0.7, 3)\n",
    "print(\"Placed the plate\")\n",
    "\n",
    "axo.park_tool()\n",
    "print(\"Parked Vacuum Gripper\")"
   ]
  },
  {
   "cell_type": "code",
   "execution_count": 45,
   "id": "ba923e05",
   "metadata": {},
   "outputs": [],
   "source": [
    "import time"
   ]
  },
  {
   "cell_type": "code",
   "execution_count": null,
   "id": "7fc7455f",
   "metadata": {},
   "outputs": [
    {
     "name": "stdout",
     "output_type": "stream",
     "text": [
      "Picked Up Single Syringe\n",
      "Parked Single Syringe\n"
     ]
    }
   ],
   "source": [
    "# 5. Fill vial with solvent \n",
    "axo.pickup_tool(single_syringe)\n",
    "print(\"Picked Up Single Syringe\")\n",
    "\n",
    "single_syringe.dispense(vol= 5, sample_loc= samples2_ssy[0].top(-10), refill_loc= solvents[1].top(-50), s= 100)\n",
    "time.sleep(10)\n",
    "single_syringe.dispense(vol= 5, sample_loc= samples2_ssy[1].top(-10), refill_loc= solvents[1].top(-50), s= 100)\n",
    "print(\"Vials filled with solvent\")\n",
    "\n",
    "drive = single_syringe.e_drive\n",
    "current_pos = float(single_syringe._machine.get_position()[drive])\n",
    "headroom_mm = current_pos - single_syringe.min_range\n",
    "headroom_ml = headroom_mm / single_syringe.mm_to_ml\n",
    "single_syringe.dispense(vol= headroom_ml, sample_loc=solvents[1].top(-10), refill_loc=solvents[1].top(-10), s=500)\n",
    "current_pos = float(single_syringe._machine.get_position()[drive])\n",
    "print(\"Single Syringe reset and position:\", current_pos)\n",
    "time.sleep(5)\n",
    "\n",
    "axo.park_tool()\n",
    "print(\"Parked Single Syringe\")"
   ]
  },
  {
   "cell_type": "code",
   "execution_count": null,
   "id": "51fe3b39",
   "metadata": {},
   "outputs": [
    {
     "name": "stdout",
     "output_type": "stream",
     "text": [
      "Picked Up Dual Syringe\n",
      "Dispensed Precursors\n",
      "Parked Dual Syringe\n"
     ]
    }
   ],
   "source": [
    "#6. Fill vial with precursors\n",
    "axo.pickup_tool(dual_syringe)\n",
    "print(\"Picked Up Dual Syringe\")\n",
    "\n",
    "dual_syringe.dispense_e0(3, sample_loc_e=samples2_sy[1].top(-25), refill_loc_e=precursors[0].top(-54), s=250)\n",
    "time.sleep(10)\n",
    "dual_syringe.dispense_e1(3, sample_loc_v=samples2_sy[0].top(-25), refill_loc_v=precursors[0].top(-54), s=250)\n",
    "time.sleep(10)\n",
    "print(\"Dispensed Precursors\")\n",
    "\n",
    "axo.park_tool()\n",
    "print(\"Parked Dual Syringe\")"
   ]
  },
  {
   "cell_type": "code",
   "execution_count": null,
   "id": "b83581ed",
   "metadata": {},
   "outputs": [
    {
     "name": "stdout",
     "output_type": "stream",
     "text": [
      "Time to pick up single syringe is: 8.250652074813843\n",
      "Picked Up Single Syringe\n",
      "Error : Well A1 form UWSUNLab 10 Well Plate 14000 µL on slot 2 Well does not have enough liquid to aspirate 2 ml liquid volume \n",
      "Error : Well A1 form UWSUNLab 10 Well Plate 14000 µL on slot 2 Well does not have enough liquid to aspirate 2 ml liquid volume \n",
      "Time till mixing is: 73.52439665794373\n",
      "Mixed the solution\n",
      "Time till parking single syringe is: 81.9259443283081\n",
      "Parked Single Syringe\n"
     ]
    }
   ],
   "source": [
    "# 7. Mix the vial\n",
    "timee = time.time()\n",
    "axo.pickup_tool(single_syringe)\n",
    "print(\"Time to pick up single syringe is:\", time.time() - timee)\n",
    "print(\"Picked Up Single Syringe\")\n",
    "\n",
    "single_syringe.mix(vol = 2, loc = samples2_ssy[0].top(-65), num_cycles = 2, s = 300)\n",
    "time.sleep(7)\n",
    "print(\"Time till mixing is:\", time.time() - timee)\n",
    "single_syringe.mix(vol = 2, loc = samples2_ssy[1].top(-65), num_cycles = 2, s = 300)\n",
    "time.sleep(7)\n",
    "print(\"Mixed the solution\")\n",
    "\n",
    "axo.park_tool()\n",
    "print(\"Time till parking single syringe is:\", time.time() - timee)\n",
    "print(\"Parked Single Syringe\")"
   ]
  },
  {
   "cell_type": "code",
   "execution_count": 9,
   "id": "9f8033c4",
   "metadata": {},
   "outputs": [
    {
     "data": {
      "text/plain": [
       "'dark_20250721_161622'"
      ]
     },
     "execution_count": 9,
     "metadata": {},
     "output_type": "execute_result"
    }
   ],
   "source": [
    "spectrometer.set_dark()"
   ]
  },
  {
   "cell_type": "code",
   "execution_count": 10,
   "id": "1377d2f6",
   "metadata": {},
   "outputs": [
    {
     "data": {
      "text/plain": [
       "'white_20250721_161624'"
      ]
     },
     "execution_count": 10,
     "metadata": {},
     "output_type": "execute_result"
    }
   ],
   "source": [
    "spectrometer.set_white()"
   ]
  },
  {
   "cell_type": "code",
   "execution_count": null,
   "id": "ef1ad35d",
   "metadata": {},
   "outputs": [
    {
     "name": "stdout",
     "output_type": "stream",
     "text": [
      "Parked Spectrometer\n"
     ]
    }
   ],
   "source": [
    "# 8. Record vial spectrometer data 2-3 times\n",
    "axo.pickup_tool(spectrometer)\n",
    "print(\"Picked Up Spectrometer\")\n",
    "\n",
    "spectrometer.configure_device()\n",
    "print(\"Configured Spectrometer\")\n",
    "\n",
    "spectrometer.record_mof_recipe(well_id= \"A1\", metal_precursor_name= 'Fe_in_methanol', metal_precursor_vol_ml = 1, organic_precursor_name= 'Mn', organic_precursor_vol_ml = 1, solvent_name= 'methanol', solvent_vol_ml= 5)\n",
    "wavelengths_blue, vals_blue, absorbance_blue = spectrometer.collect_spectrum(samples2_spec[0].top(-45), 0, save= True)\n",
    "spectrometer.plot_spectrum(samples2_spec[0].top(-40), elapsed_min=0, show_plot=True, save_plot=True)  \n",
    "print(\"Collected Blue Spectrum\")\n",
    "\n",
    "for i in range(2):\n",
    "    time1 = time.time()\n",
    "    wavelengths_blue, vals_blue, absorbance_blue = spectrometer.collect_spectrum(samples2_spec[0].top(-45), 0, save= True)\n",
    "    spectrometer.plot_spectrum(samples2_spec[0].top(-40), elapsed_min=0, show_plot=True, save_plot=True)  \n",
    "    print(\"Collected Blue Spectrum\")\n",
    "\n",
    "    spectrometer.wash_probe(solvents[0].top(-35), n_cycles= 2)\n",
    "    time2 = time.time()\n",
    "    print(\"Washed Probe\")\n",
    "    print(f\"Time to collect blue spectrum: {time2-time1} seconds\")\n",
    "\n",
    "\n",
    "    time3 = time.time()\n",
    "    wavelengths_red, vals_red, absorbance_red = spectrometer.collect_spectrum(samples2_spec[1].top(-45), 0, save= True)\n",
    "    spectrometer.plot_spectrum(samples2_spec[1].top(-40), elapsed_min=0, show_plot=True, save_plot=True)\n",
    "    print(\"Collected Red Spectrum\")\n",
    "\n",
    "    spectrometer.wash_probe(solvents[0].top(-35), n_cycles= 3)\n",
    "    time4 = time.time()\n",
    "    print(\"Washed Probe\")\n",
    "    print(f\"Time to collect red spectrum: {time4-time3} seconds\")\n",
    "\n",
    "\n",
    "axo.park_tool()\n",
    "print(\"Parked Spectrometer\")\n"
   ]
  },
  {
   "cell_type": "code",
   "execution_count": 16,
   "id": "93348d0d",
   "metadata": {},
   "outputs": [
    {
     "name": "stdout",
     "output_type": "stream",
     "text": [
      "Time to pick up spectrometer is: 8.320808410644531e-05\n",
      "Time till collecting spectrum is: 7.166708707809448\n",
      "Time till washing probe is: 7.166898012161255\n",
      "Washed Probe\n",
      "Time till parking spectrometer is: 7.167020320892334\n",
      "Parked Spectrometer\n"
     ]
    }
   ],
   "source": [
    "timeee = time.time()\n",
    "# axo.pickup_tool(spectrometer)\n",
    "# spectrometer.configure_device()\n",
    "print(\"Time to pick up spectrometer is:\", time.time() - timeee)\n",
    "\n",
    "spectrometer.position_probe(samples5_spec[0].top(-52))\n",
    "# wavelengths_blue, vals_blue, absorbance_blue = spectrometer.collect_spectrum(samples2_spec[0].top(-45), 0, save= True)\n",
    "# spectrometer.plot_spectrum(samples2_spec[0].top(-40), elapsed_min=0, show_plot=True, save_plot=True) \n",
    "print(\"Time till collecting spectrum is:\", time.time() - timeee)\n",
    "\n",
    "# spectrometer.wash_probe(solvents[0].top(-35), n_cycles= 2)\n",
    "print(\"Time till washing probe is:\", time.time() - timeee)\n",
    "print(\"Washed Probe\")\n",
    "\n",
    "# axo.park_tool()\n",
    "print(\"Time till parking spectrometer is:\", time.time() - timeee)\n",
    "print(\"Parked Spectrometer\")"
   ]
  }
 ],
 "metadata": {
  "kernelspec": {
   "display_name": "axo",
   "language": "python",
   "name": "python3"
  },
  "language_info": {
   "codemirror_mode": {
    "name": "ipython",
    "version": 3
   },
   "file_extension": ".py",
   "mimetype": "text/x-python",
   "name": "python",
   "nbconvert_exporter": "python",
   "pygments_lexer": "ipython3",
   "version": "3.13.4"
  }
 },
 "nbformat": 4,
 "nbformat_minor": 5
}
